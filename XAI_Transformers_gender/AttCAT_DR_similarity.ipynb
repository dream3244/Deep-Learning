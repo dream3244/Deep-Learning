{
 "cells": [
  {
   "cell_type": "markdown",
   "metadata": {},
   "source": [
    "# AttCAT & DR similarity calculation"
   ]
  },
  {
   "cell_type": "code",
   "execution_count": 1,
   "metadata": {},
   "outputs": [],
   "source": [
    "import torch\n",
    "import pickle\n",
    "import glob\n",
    "import math\n",
    "import numpy as np\n",
    "import pandas as pd\n",
    "import tqdm as tqdm\n",
    "from scipy.special import softmax\n",
    "import scipy.stats as stats\n",
    "from sklearn.metrics.pairwise import *\n",
    "import seaborn as sns\n",
    "import matplotlib.pyplot as plt\n",
    "from IPython.display import display, HTML\n",
    "\n",
    "from transformers import AutoTokenizer,BertTokenizer,BertForMaskedLM\n",
    "import torch\n",
    "\n",
    "device = torch.device('cuda' if torch.cuda.is_available() else 'cpu')\n",
    "\n",
    "config = 'base'\n",
    "nlayer = 12 if config == 'base' else 24\n",
    "nsamples = 50000 if config == 'base' else 100000\n",
    "\n"
   ]
  },
  {
   "cell_type": "code",
   "execution_count": 2,
   "metadata": {},
   "outputs": [
    {
     "data": {
      "text/plain": [
       "BertForMaskedLM(\n",
       "  (bert): BertModel(\n",
       "    (embeddings): BertEmbeddings(\n",
       "      (word_embeddings): Embedding(30522, 768, padding_idx=0)\n",
       "      (position_embeddings): Embedding(512, 768)\n",
       "      (token_type_embeddings): Embedding(2, 768)\n",
       "      (LayerNorm): LayerNorm((768,), eps=1e-12, elementwise_affine=True)\n",
       "      (dropout): Dropout(p=0.1, inplace=False)\n",
       "    )\n",
       "    (encoder): BertEncoder(\n",
       "      (layer): ModuleList(\n",
       "        (0-11): 12 x BertLayer(\n",
       "          (attention): BertAttention(\n",
       "            (self): BertSelfAttention(\n",
       "              (query): Linear(in_features=768, out_features=768, bias=True)\n",
       "              (key): Linear(in_features=768, out_features=768, bias=True)\n",
       "              (value): Linear(in_features=768, out_features=768, bias=True)\n",
       "              (dropout): Dropout(p=0.1, inplace=False)\n",
       "            )\n",
       "            (output): BertSelfOutput(\n",
       "              (dense): Linear(in_features=768, out_features=768, bias=True)\n",
       "              (LayerNorm): LayerNorm((768,), eps=1e-12, elementwise_affine=True)\n",
       "              (dropout): Dropout(p=0.1, inplace=False)\n",
       "            )\n",
       "          )\n",
       "          (intermediate): BertIntermediate(\n",
       "            (dense): Linear(in_features=768, out_features=3072, bias=True)\n",
       "          )\n",
       "          (output): BertOutput(\n",
       "            (dense): Linear(in_features=3072, out_features=768, bias=True)\n",
       "            (LayerNorm): LayerNorm((768,), eps=1e-12, elementwise_affine=True)\n",
       "            (dropout): Dropout(p=0.1, inplace=False)\n",
       "          )\n",
       "        )\n",
       "      )\n",
       "    )\n",
       "    (pooler): BertPooler(\n",
       "      (dense): Linear(in_features=768, out_features=768, bias=True)\n",
       "      (activation): Tanh()\n",
       "    )\n",
       "  )\n",
       "  (cls): BertOnlyMLMHead(\n",
       "    (predictions): BertLMPredictionHead(\n",
       "      (transform): BertPredictionHeadTransform(\n",
       "        (dense): Linear(in_features=768, out_features=768, bias=True)\n",
       "        (LayerNorm): LayerNorm((768,), eps=1e-12, elementwise_affine=True)\n",
       "      )\n",
       "      (decoder): Linear(in_features=768, out_features=30522, bias=False)\n",
       "    )\n",
       "  )\n",
       ")"
      ]
     },
     "execution_count": 2,
     "metadata": {},
     "output_type": "execute_result"
    }
   ],
   "source": [
    "model = BertForMaskedLM.from_pretrained('bert-'+config+'-uncased', output_hidden_states=True).to(device)\n",
    "tokenizer = BertTokenizer.from_pretrained('bert-'+config+'-uncased')\n",
    "# turn on eval mode\n",
    "model.eval()"
   ]
  },
  {
   "cell_type": "markdown",
   "metadata": {},
   "source": [
    "## 1. OCCTMP \n",
    "* distance between absolute DR-score and absolute impact score\n",
    "* template: [MASK] is a [profession] in this area.\n",
    "* densray score of the sentence with layers store in the map\n"
   ]
  },
  {
   "cell_type": "code",
   "execution_count": 3,
   "metadata": {},
   "outputs": [
    {
     "name": "stdout",
     "output_type": "stream",
     "text": [
      "320\n",
      "AttCAT <class 'numpy.ndarray'>\n",
      "raws <class 'numpy.ndarray'>\n",
      "CAT_h <class 'numpy.ndarray'>\n",
      "CAT <class 'numpy.ndarray'>\n",
      "lines <class 'str'>\n",
      "tokens <class 'list'>\n",
      "mask <class 'torch.Tensor'>\n"
     ]
    }
   ],
   "source": [
    "with open('OCCTMP_mask_AttCAT.txt', 'rb') as file:\n",
    "    Att_cat = pickle.load(file)\n",
    "print(len(Att_cat))\n",
    "for (k,v) in Att_cat[0].items():\n",
    "    print(k,type(v))"
   ]
  },
  {
   "cell_type": "code",
   "execution_count": 5,
   "metadata": {},
   "outputs": [
    {
     "data": {
      "text/plain": [
       "dict_keys(['sentence', 'tokens', 'mat'])"
      ]
     },
     "execution_count": 5,
     "metadata": {},
     "output_type": "execute_result"
    }
   ],
   "source": [
    "with open('OCCTMP_mask_dict3.txt', 'rb') as file:\n",
    "    OCCTMP_mask_list = pickle.load(file)\n",
    "OCCTMP_mask_list[0].keys()"
   ]
  },
  {
   "cell_type": "code",
   "execution_count": 6,
   "metadata": {},
   "outputs": [
    {
     "data": {
      "text/plain": [
       "320"
      ]
     },
     "execution_count": 6,
     "metadata": {},
     "output_type": "execute_result"
    }
   ],
   "source": [
    "AttCATscore_list = [Att_cat[i][\"AttCAT\"].sum(axis = 0).reshape(1,-1) for i in range(len(Att_cat))] # a list of 320 (7,) arrays\n",
    "DRscore_list = [OCCTMP_mask_list[i][\"mat\"].sum(axis = 0).reshape(1,-1) for i in range(len(OCCTMP_mask_list))]\n",
    "\n",
    "ip_abs_list = [abs(AttCATscore_list[i]/np.linalg.norm(AttCATscore_list[i])) for i in range(len(AttCATscore_list))]\n",
    "DR_abs_list = [abs(DRscore_list[i]/np.linalg.norm(DRscore_list[i])) for i in range(len(DRscore_list))]\n",
    "len(AttCATscore_list)"
   ]
  },
  {
   "cell_type": "code",
   "execution_count": 7,
   "metadata": {},
   "outputs": [
    {
     "data": {
      "text/plain": [
       "{'cityblock': <function sklearn.metrics.pairwise.manhattan_distances(X, Y=None, *, sum_over_features='deprecated')>,\n",
       " 'cosine': <function sklearn.metrics.pairwise.cosine_distances(X, Y=None)>,\n",
       " 'euclidean': <function sklearn.metrics.pairwise.euclidean_distances(X, Y=None, *, Y_norm_squared=None, squared=False, X_norm_squared=None)>,\n",
       " 'haversine': <function sklearn.metrics.pairwise.haversine_distances(X, Y=None)>,\n",
       " 'l2': <function sklearn.metrics.pairwise.euclidean_distances(X, Y=None, *, Y_norm_squared=None, squared=False, X_norm_squared=None)>,\n",
       " 'l1': <function sklearn.metrics.pairwise.manhattan_distances(X, Y=None, *, sum_over_features='deprecated')>,\n",
       " 'manhattan': <function sklearn.metrics.pairwise.manhattan_distances(X, Y=None, *, sum_over_features='deprecated')>,\n",
       " 'precomputed': None,\n",
       " 'nan_euclidean': <function sklearn.metrics.pairwise.nan_euclidean_distances(X, Y=None, *, squared=False, missing_values=nan, copy=True)>}"
      ]
     },
     "execution_count": 7,
     "metadata": {},
     "output_type": "execute_result"
    }
   ],
   "source": [
    "import sklearn\n",
    "sklearn.metrics.pairwise.distance_metrics()"
   ]
  },
  {
   "cell_type": "code",
   "execution_count": 15,
   "metadata": {},
   "outputs": [
    {
     "name": "stdout",
     "output_type": "stream",
     "text": [
      "min absolute cosine distance & index: 0.04753398055076963 181\n",
      "mean : 0.47381834543342516\n",
      "min absolute euclidean distance & index: 0.3083309284696345 181\n",
      "mean : 0.9549444206695202\n",
      "min absolute manhattan distance & index: 0.3083309284696345 181\n",
      "mean : 2.140854912967522\n",
      "min absolute haversine distance & index: 0.3083309284696345 181\n",
      "mean : 0.5330378144346144\n",
      "mean normalized euclidean distance: 0.3508661238839868\n",
      "mean normalized manhattan distance: 0.2883632280526105\n"
     ]
    }
   ],
   "source": [
    "from sklearn.metrics.pairwise import *\n",
    "cos_dis=[]\n",
    "eucl_dis = []\n",
    "manh_dis = []\n",
    "have_dis= []\n",
    "eucl_norm = []\n",
    "manh_norm = []\n",
    "\n",
    "for i in range(len(Att_cat)):\n",
    "    cos_dis.append(cosine_distances(ip_abs_list[i],DR_abs_list[i]).tolist()[0][0])\n",
    "    euc = euclidean_distances(ip_abs_list[i],DR_abs_list[i]).tolist()[0][0]\n",
    "    eucl_dis.append(euc)\n",
    "    eucl_norm.append(euc/np.sqrt(ip_abs_list[i][0].shape[0]))\n",
    "    mah = manhattan_distances(ip_abs_list[i],DR_abs_list[i]).tolist()[0][0]\n",
    "    manh_dis.append(mah)\n",
    "    manh_norm.append(mah/ip_abs_list[i][0].shape[0])\n",
    "    have_dis.append(haversine_distances(ip_abs_list[i][0][[0,3]].reshape(1,-1),DR_abs_list[i][0][[0,3]].reshape(1,-1)).tolist()[0][0])\n",
    "    \n",
    "    \n",
    "print(\"min absolute cosine distance & index:\", min(cos_dis),np.argmin(cos_dis))\n",
    "print(\"mean :\",np.mean(cos_dis))\n",
    "print(\"min absolute euclidean distance & index:\", min(eucl_dis),np.argmin(eucl_dis))\n",
    "print(\"mean :\",np.mean(eucl_dis))\n",
    "print(\"min absolute manhattan distance & index:\", min(eucl_dis),np.argmin(eucl_dis))\n",
    "print(\"mean :\",np.mean(manh_dis))\n",
    "print(\"min absolute haversine distance & index:\", min(eucl_dis),np.argmin(eucl_dis))\n",
    "print(\"mean :\",np.mean(have_dis))\n",
    "print(\"mean normalized euclidean distance:\",np.mean(eucl_norm))\n",
    "print(\"mean normalized manhattan distance:\",np.mean(manh_norm))"
   ]
  },
  {
   "cell_type": "code",
   "execution_count": 68,
   "metadata": {},
   "outputs": [
    {
     "name": "stdout",
     "output_type": "stream",
     "text": [
      "[MASK] is the marshal in this area\n",
      "Att_cat score [-0.18845756 -0.07910486 -0.06277336 -0.30398196 -0.10985854  0.12285568\n",
      "  0.15158454]\n",
      "DR score [1.43382902 0.8506161  1.58981916 4.01141924 1.00656727 2.5501892\n",
      " 1.47853751]\n",
      "normalized absolute impact AttCAT score: [0.43434513 0.1823159  0.14467609 0.7005985  0.25319505 0.28315005\n",
      " 0.3493625 ]\n",
      "normalized absolute DR bias score: [0.25710423 0.15252655 0.2850753  0.71929975 0.18049063 0.45728216\n",
      " 0.26512105]\n"
     ]
    }
   ],
   "source": [
    "i=181\n",
    "print(OCCTMP_mask_list[i][\"sentence\"])\n",
    "print(\"Att_cat score\",Att_cat[i][\"AttCAT\"].sum(axis = 0))\n",
    "print(\"DR score\",OCCTMP_mask_list[i][\"mat\"].sum(axis = 0))\n",
    "print(\"normalized absolute impact AttCAT score:\", ip_abs_list[i][0])\n",
    "print(\"normalized absolute DR bias score:\", DR_abs_list[i][0])"
   ]
  },
  {
   "cell_type": "code",
   "execution_count": 69,
   "metadata": {},
   "outputs": [
    {
     "data": {
      "image/png": "[encoded data removed]",
      "text/plain": [
       "<Figure size 700x1200 with 2 Axes>"
      ]
     },
     "metadata": {},
     "output_type": "display_data"
    }
   ],
   "source": [
    "sent = OCCTMP_mask_list[i][\"sentence\"]\n",
    "prof_str = Att_cat[i][\"lines\"].strip().split()[-4]\n",
    "tokens =  [tokenizer.convert_ids_to_tokens(i) for i in OCCTMP_mask_list[i][\"tokens\"]]\n",
    "DRmat = OCCTMP_mask_list[i][\"mat\"]\n",
    "\n",
    "    \n",
    "\n",
    "    # summing all layers\n",
    "DRsum = DRmat.sum(axis = 0)\n",
    "    #Attsum=Attmat.sum(axis = 0)\n",
    "\n",
    "DR_add = np.vstack([DRmat, DRsum])\n",
    "    #Att_add = np.vstack([Attmat, Attsum])\n",
    "    \n",
    "    #DR_add = DR_add * Att_add\n",
    "    # normalize\n",
    "norm1_DR = DR_add / np.linalg.norm(DR_add)\n",
    "    #norm1_DR = DR_add\n",
    "    #norm1_DR =DRmat\n",
    "    # plotting heatmap\n",
    "yticklabels=['L'+str(i) for i in range(12)]\n",
    "yticklabels.append('Sum')\n",
    "\n",
    "fig, ax = plt.subplots(figsize=(len(tokens)-2, 12))\n",
    "sns.set(font_scale=1)\n",
    "sns.heatmap(norm1_DR, xticklabels = tokens[1:-1], yticklabels=yticklabels,cmap=\"RdBu_r\",\n",
    "                    linewidths=0.1, annot=True, annot_kws={\"fontsize\":13, 'fontweight':'heavy'}, cbar_kws={\"values\":None, \"location\":'right',\n",
    "                                                                \"pad\":0.01}, fmt='.2f', cbar = True)\n",
    "\n",
    "ax.set_xticklabels(ax.get_xmajorticklabels(), fontsize = 10, fontweight = 'heavy')\n",
    "ax.set_yticklabels(ax.get_ymajorticklabels(), fontsize = 10, fontweight = 'heavy')\n",
    "\n",
    "cbar = ax.collections[0].colorbar\n",
    "cbar.ax.tick_params(labelsize=18)\n",
    "    \n",
    "\n",
    "\n",
    "#plt.savefig('./AttDR/{}.png'.format(prof_str), format='png', transparent=True, dpi=360, bbox_inches='tight')\n",
    "        # 显示热力图\n",
    "plt.show()\n",
    "\n",
    "    # 关闭图形，以便下一个循环重新创建"
   ]
  },
  {
   "cell_type": "markdown",
   "metadata": {},
   "source": [
    "## 2. ADJTMP \n",
    "* distance between absolute DR-score and absolute impact score(absolute value)\n",
    "* template: [MASK] is a [adj] person.\n",
    "### 2.1 intelligence vs appearance"
   ]
  },
  {
   "cell_type": "code",
   "execution_count": 3,
   "metadata": {},
   "outputs": [],
   "source": [
    "adj_m = \"precocious, resourceful, inquisitive, genius, inventive, astute, adaptable, reflective,discerning, intuitive, inquiring, judicious, analytical, apt, venerable, imaginative,shrewd, thoughtful, wise, smart, ingenious, clever, brilliant, logical, intelligent\".lower().replace(\" \", \"\").split(',')\n",
    "adj_f = \"alluring, voluptuous, blushing, homely, plump, sensual, gorgeous, slim, bald,athletic, fashionable, stout, ugly, muscular, slender, feeble, handsome, healthy,attractive, fat, weak, thin, pretty, beautiful, strong\".lower().replace(\" \", \"\").split(',')"
   ]
  },
  {
   "cell_type": "code",
   "execution_count": 18,
   "metadata": {},
   "outputs": [
    {
     "name": "stdout",
     "output_type": "stream",
     "text": [
      "min absolute cosine distance & index: 0.13960404444171548 5\n",
      "mean : 0.3294620789498897\n",
      "min absolute euclidean distance & index: 0.5284014543223461 5\n",
      "mean : 0.7950246867091009\n",
      "min absolute manhattan distance & index: 0.5284014543223461 5\n",
      "mean : 1.7317410697894493\n",
      "min absolute haversine distance & index: 0.5284014543223461 5\n",
      "mean : 0.4506796833876647\n",
      "mean normalized euclidean distance: 0.3060487618648153\n",
      "mean normalized manhattan distance: 0.2561679427127527\n"
     ]
    }
   ],
   "source": [
    "with open('./ADJ/ADJTMP_male_DR.txt', 'rb') as file:\n",
    "    ADJTMP_male_DR = pickle.load(file)\n",
    "with open('./ADJ/ADJTMP_male_AttCAT.txt', 'rb') as file:\n",
    "    ADJTMP_male_AttCAT = pickle.load(file)\n",
    "\n",
    "\n",
    "AttCATscore_list = [ADJTMP_male_AttCAT[i][\"AttCAT\"].sum(axis = 0).reshape(1,-1) for i in range(len(ADJTMP_male_AttCAT))] # a list of 320 (7,) arrays\n",
    "DRscore_list = [ADJTMP_male_DR[i][\"mat\"].sum(axis = 0).reshape(1,-1) for i in range(len(ADJTMP_male_DR))]\n",
    "\n",
    "ip_abs_list = [abs(AttCATscore_list[i]/np.linalg.norm(AttCATscore_list[i])) for i in range(len(AttCATscore_list))]\n",
    "DR_abs_list = [abs(DRscore_list[i]/np.linalg.norm(DRscore_list[i])) for i in range(len(DRscore_list))]\n",
    "len(AttCATscore_list)\n",
    "\n",
    "\n",
    "from sklearn.metrics.pairwise import *\n",
    "cos_dis=[]\n",
    "eucl_dis = []\n",
    "manh_dis = []\n",
    "have_dis= []\n",
    "eucl_norm = []\n",
    "manh_norm = []\n",
    "\n",
    "for i in range(len(ADJTMP_male_DR)):\n",
    "    cos_dis.append(cosine_distances(ip_abs_list[i],DR_abs_list[i]).tolist()[0][0])\n",
    "    euc = euclidean_distances(ip_abs_list[i],DR_abs_list[i]).tolist()[0][0]\n",
    "    eucl_dis.append(euc)\n",
    "    eucl_norm.append(euc/np.sqrt(ip_abs_list[i][0].shape[0]))\n",
    "    mah = manhattan_distances(ip_abs_list[i],DR_abs_list[i]).tolist()[0][0]\n",
    "    manh_dis.append(mah)\n",
    "    manh_norm.append(mah/ip_abs_list[i][0].shape[0])\n",
    "    have_dis.append(haversine_distances(ip_abs_list[i][0][[0,3]].reshape(1,-1),DR_abs_list[i][0][[0,3]].reshape(1,-1)).tolist()[0][0])\n",
    "    \n",
    "    \n",
    "print(\"min absolute cosine distance & index:\", min(cos_dis),np.argmin(cos_dis))\n",
    "print(\"mean :\",np.mean(cos_dis))\n",
    "print(\"min absolute euclidean distance & index:\", min(eucl_dis),np.argmin(eucl_dis))\n",
    "print(\"mean :\",np.mean(eucl_dis))\n",
    "print(\"min absolute manhattan distance & index:\", min(eucl_dis),np.argmin(eucl_dis))\n",
    "print(\"mean :\",np.mean(manh_dis))\n",
    "print(\"min absolute haversine distance & index:\", min(eucl_dis),np.argmin(eucl_dis))\n",
    "print(\"mean :\",np.mean(have_dis))\n",
    "print(\"mean normalized euclidean distance:\",np.mean(eucl_norm))\n",
    "print(\"mean normalized manhattan distance:\",np.mean(manh_norm))"
   ]
  },
  {
   "cell_type": "code",
   "execution_count": 25,
   "metadata": {},
   "outputs": [
    {
     "data": {
      "text/plain": [
       "'[MASK] is a astute person.'"
      ]
     },
     "execution_count": 25,
     "metadata": {},
     "output_type": "execute_result"
    }
   ],
   "source": [
    "ADJTMP_male_DR[5]['sentence']"
   ]
  },
  {
   "cell_type": "code",
   "execution_count": 19,
   "metadata": {},
   "outputs": [
    {
     "name": "stdout",
     "output_type": "stream",
     "text": [
      "min absolute cosine distance & index: 0.1994189626867643 20\n",
      "mean : 0.4180381031075148\n",
      "min absolute euclidean distance & index: 0.6315361583854027 20\n",
      "mean : 0.9014427713918418\n",
      "min absolute manhattan distance & index: 0.6315361583854027 20\n",
      "mean : 1.835707510126194\n",
      "min absolute haversine distance & index: 0.6315361583854027 20\n",
      "mean : 0.6663189395840534\n",
      "mean normalized euclidean distance: 0.36212064491946216\n",
      "mean normalized manhattan distance: 0.2959542071816245\n"
     ]
    }
   ],
   "source": [
    "with open('./ADJ/ADJTMP_female_DR.txt', 'rb') as file:\n",
    "    ADJTMP_male_DR = pickle.load(file)\n",
    "with open('./ADJ/ADJTMP_female_AttCAT.txt', 'rb') as file:\n",
    "    ADJTMP_male_AttCAT = pickle.load(file)\n",
    "\n",
    "\n",
    "AttCATscore_list = [ADJTMP_male_AttCAT[i][\"AttCAT\"].sum(axis = 0).reshape(1,-1) for i in range(len(ADJTMP_male_AttCAT))] # a list of 320 (7,) arrays\n",
    "DRscore_list = [ADJTMP_male_DR[i][\"mat\"].sum(axis = 0).reshape(1,-1) for i in range(len(ADJTMP_male_DR))]\n",
    "\n",
    "ip_abs_list = [abs(AttCATscore_list[i]/np.linalg.norm(AttCATscore_list[i])) for i in range(len(AttCATscore_list))]\n",
    "DR_abs_list = [abs(DRscore_list[i]/np.linalg.norm(DRscore_list[i])) for i in range(len(DRscore_list))]\n",
    "len(AttCATscore_list)\n",
    "\n",
    "\n",
    "from sklearn.metrics.pairwise import *\n",
    "cos_dis=[]\n",
    "eucl_dis = []\n",
    "manh_dis = []\n",
    "have_dis= []\n",
    "eucl_norm = []\n",
    "manh_norm = []\n",
    "\n",
    "for i in range(len(ADJTMP_male_DR)):\n",
    "    cos_dis.append(cosine_distances(ip_abs_list[i],DR_abs_list[i]).tolist()[0][0])\n",
    "    euc = euclidean_distances(ip_abs_list[i],DR_abs_list[i]).tolist()[0][0]\n",
    "    eucl_dis.append(euc)\n",
    "    eucl_norm.append(euc/np.sqrt(ip_abs_list[i][0].shape[0]))\n",
    "    mah = manhattan_distances(ip_abs_list[i],DR_abs_list[i]).tolist()[0][0]\n",
    "    manh_dis.append(mah)\n",
    "    manh_norm.append(mah/ip_abs_list[i][0].shape[0])\n",
    "    have_dis.append(haversine_distances(ip_abs_list[i][0][[0,3]].reshape(1,-1),DR_abs_list[i][0][[0,3]].reshape(1,-1)).tolist()[0][0])\n",
    "    \n",
    "    \n",
    "print(\"min absolute cosine distance & index:\", min(cos_dis),np.argmin(cos_dis))\n",
    "print(\"mean :\",np.mean(cos_dis))\n",
    "print(\"min absolute euclidean distance & index:\", min(eucl_dis),np.argmin(eucl_dis))\n",
    "print(\"mean :\",np.mean(eucl_dis))\n",
    "print(\"min absolute manhattan distance & index:\", min(eucl_dis),np.argmin(eucl_dis))\n",
    "print(\"mean :\",np.mean(manh_dis))\n",
    "print(\"min absolute haversine distance & index:\", min(eucl_dis),np.argmin(eucl_dis))\n",
    "print(\"mean :\",np.mean(have_dis))\n",
    "print(\"mean normalized euclidean distance:\",np.mean(eucl_norm))\n",
    "print(\"mean normalized manhattan distance:\",np.mean(manh_norm))"
   ]
  },
  {
   "cell_type": "code",
   "execution_count": 27,
   "metadata": {},
   "outputs": [
    {
     "data": {
      "text/plain": [
       "'[MASK] is a weak person.'"
      ]
     },
     "execution_count": 27,
     "metadata": {},
     "output_type": "execute_result"
    }
   ],
   "source": [
    "ADJTMP_male_DR[20]['sentence']"
   ]
  },
  {
   "cell_type": "markdown",
   "metadata": {},
   "source": [
    "### 2.2: strength vs weakness"
   ]
  },
  {
   "cell_type": "code",
   "execution_count": null,
   "metadata": {},
   "outputs": [],
   "source": [
    "        \n",
    "x_words = \"powerful, strong, confident, dominant, potent, commanding, assertive, loud, bold, successful, noisy, dynamic\".lower().replace(\" \", \"\").split(',')\n",
    "y_words = \"weak, timid, vulnerable, weakness, wispy, yielding, failure, shy, lose, fragile, faintish, pavid\".lower().replace(\" \", \"\").split(',')\n",
    "y_words\n"
   ]
  },
  {
   "cell_type": "code",
   "execution_count": 20,
   "metadata": {},
   "outputs": [
    {
     "name": "stdout",
     "output_type": "stream",
     "text": [
      "min absolute cosine distance & index: 0.07818840642723579 8\n",
      "mean : 0.36439042821683926\n",
      "min absolute euclidean distance & index: 0.3954450746212788 8\n",
      "mean : 0.8320550775984296\n",
      "min absolute manhattan distance & index: 0.3954450746212788 8\n",
      "mean : 1.6731378025219736\n",
      "min absolute haversine distance & index: 0.3954450746212788 8\n",
      "mean : 0.5500014459996677\n",
      "mean normalized euclidean distance: 0.336785609481205\n",
      "mean normalized manhattan distance: 0.27455327282216174\n"
     ]
    }
   ],
   "source": [
    "with open('./ADJ/ADJTMP2_male_DR.txt', 'rb') as file:\n",
    "    ADJTMP_male_DR = pickle.load(file)\n",
    "with open('./ADJ/ADJTMP2_male_AttCAT.txt', 'rb') as file:\n",
    "    ADJTMP_male_AttCAT = pickle.load(file)\n",
    "\n",
    "\n",
    "AttCATscore_list = [ADJTMP_male_AttCAT[i][\"AttCAT\"].sum(axis = 0).reshape(1,-1) for i in range(len(ADJTMP_male_AttCAT))] # a list of 320 (7,) arrays\n",
    "DRscore_list = [ADJTMP_male_DR[i][\"mat\"].sum(axis = 0).reshape(1,-1) for i in range(len(ADJTMP_male_DR))]\n",
    "\n",
    "ip_abs_list = [abs(AttCATscore_list[i]/np.linalg.norm(AttCATscore_list[i])) for i in range(len(AttCATscore_list))]\n",
    "DR_abs_list = [abs(DRscore_list[i]/np.linalg.norm(DRscore_list[i])) for i in range(len(DRscore_list))]\n",
    "len(AttCATscore_list)\n",
    "\n",
    "\n",
    "\n",
    "from sklearn.metrics.pairwise import *\n",
    "cos_dis=[]\n",
    "eucl_dis = []\n",
    "manh_dis = []\n",
    "have_dis= []\n",
    "eucl_norm = []\n",
    "manh_norm = []\n",
    "\n",
    "for i in range(len(ADJTMP_male_DR)):\n",
    "    cos_dis.append(cosine_distances(ip_abs_list[i],DR_abs_list[i]).tolist()[0][0])\n",
    "    euc = euclidean_distances(ip_abs_list[i],DR_abs_list[i]).tolist()[0][0]\n",
    "    eucl_dis.append(euc)\n",
    "    eucl_norm.append(euc/np.sqrt(ip_abs_list[i][0].shape[0]))\n",
    "    mah = manhattan_distances(ip_abs_list[i],DR_abs_list[i]).tolist()[0][0]\n",
    "    manh_dis.append(mah)\n",
    "    manh_norm.append(mah/ip_abs_list[i][0].shape[0])\n",
    "    have_dis.append(haversine_distances(ip_abs_list[i][0][[0,3]].reshape(1,-1),DR_abs_list[i][0][[0,3]].reshape(1,-1)).tolist()[0][0])\n",
    "    \n",
    "    \n",
    "print(\"min absolute cosine distance & index:\", min(cos_dis),np.argmin(cos_dis))\n",
    "print(\"mean :\",np.mean(cos_dis))\n",
    "print(\"min absolute euclidean distance & index:\", min(eucl_dis),np.argmin(eucl_dis))\n",
    "print(\"mean :\",np.mean(eucl_dis))\n",
    "print(\"min absolute manhattan distance & index:\", min(eucl_dis),np.argmin(eucl_dis))\n",
    "print(\"mean :\",np.mean(manh_dis))\n",
    "print(\"min absolute haversine distance & index:\", min(eucl_dis),np.argmin(eucl_dis))\n",
    "print(\"mean :\",np.mean(have_dis))\n",
    "print(\"mean normalized euclidean distance:\",np.mean(eucl_norm))\n",
    "print(\"mean normalized manhattan distance:\",np.mean(manh_norm))"
   ]
  },
  {
   "cell_type": "code",
   "execution_count": 29,
   "metadata": {},
   "outputs": [
    {
     "data": {
      "text/plain": [
       "'[MASK] is a bold person.'"
      ]
     },
     "execution_count": 29,
     "metadata": {},
     "output_type": "execute_result"
    }
   ],
   "source": [
    "ADJTMP_male_DR[8]['sentence']"
   ]
  },
  {
   "cell_type": "code",
   "execution_count": 21,
   "metadata": {},
   "outputs": [
    {
     "name": "stdout",
     "output_type": "stream",
     "text": [
      "min absolute cosine distance & index: 0.15713080815970337 5\n",
      "mean : 0.362549041219256\n",
      "min absolute euclidean distance & index: 0.5605904018561554 5\n",
      "mean : 0.8357075814379912\n",
      "min absolute manhattan distance & index: 0.5605904018561554 5\n",
      "mean : 1.775793317121103\n",
      "min absolute haversine distance & index: 0.5605904018561554 5\n",
      "mean : 0.606155936820559\n",
      "mean normalized euclidean distance: 0.3307882093423025\n",
      "mean normalized manhattan distance: 0.27763385297539794\n"
     ]
    }
   ],
   "source": [
    "with open('./ADJ/ADJTMP2_female_DR.txt', 'rb') as file:\n",
    "    ADJTMP_male_DR = pickle.load(file)\n",
    "with open('./ADJ/ADJTMP2_female_AttCAT.txt', 'rb') as file:\n",
    "    ADJTMP_male_AttCAT = pickle.load(file)\n",
    "\n",
    "\n",
    "AttCATscore_list = [ADJTMP_male_AttCAT[i][\"AttCAT\"].sum(axis = 0).reshape(1,-1) for i in range(len(ADJTMP_male_AttCAT))] # a list of 320 (7,) arrays\n",
    "DRscore_list = [ADJTMP_male_DR[i][\"mat\"].sum(axis = 0).reshape(1,-1) for i in range(len(ADJTMP_male_DR))]\n",
    "\n",
    "ip_abs_list = [abs(AttCATscore_list[i]/np.linalg.norm(AttCATscore_list[i])) for i in range(len(AttCATscore_list))]\n",
    "DR_abs_list = [abs(DRscore_list[i]/np.linalg.norm(DRscore_list[i])) for i in range(len(DRscore_list))]\n",
    "len(AttCATscore_list)\n",
    "\n",
    "\n",
    "\n",
    "from sklearn.metrics.pairwise import *\n",
    "cos_dis=[]\n",
    "eucl_dis = []\n",
    "manh_dis = []\n",
    "have_dis= []\n",
    "eucl_norm = []\n",
    "manh_norm = []\n",
    "\n",
    "for i in range(len(ADJTMP_male_DR)):\n",
    "    cos_dis.append(cosine_distances(ip_abs_list[i],DR_abs_list[i]).tolist()[0][0])\n",
    "    euc = euclidean_distances(ip_abs_list[i],DR_abs_list[i]).tolist()[0][0]\n",
    "    eucl_dis.append(euc)\n",
    "    eucl_norm.append(euc/np.sqrt(ip_abs_list[i][0].shape[0]))\n",
    "    mah = manhattan_distances(ip_abs_list[i],DR_abs_list[i]).tolist()[0][0]\n",
    "    manh_dis.append(mah)\n",
    "    manh_norm.append(mah/ip_abs_list[i][0].shape[0])\n",
    "    have_dis.append(haversine_distances(ip_abs_list[i][0][[0,3]].reshape(1,-1),DR_abs_list[i][0][[0,3]].reshape(1,-1)).tolist()[0][0])\n",
    "    \n",
    "    \n",
    "print(\"min absolute cosine distance & index:\", min(cos_dis),np.argmin(cos_dis))\n",
    "print(\"mean :\",np.mean(cos_dis))\n",
    "print(\"min absolute euclidean distance & index:\", min(eucl_dis),np.argmin(eucl_dis))\n",
    "print(\"mean :\",np.mean(eucl_dis))\n",
    "print(\"min absolute manhattan distance & index:\", min(eucl_dis),np.argmin(eucl_dis))\n",
    "print(\"mean :\",np.mean(manh_dis))\n",
    "print(\"min absolute haversine distance & index:\", min(eucl_dis),np.argmin(eucl_dis))\n",
    "print(\"mean :\",np.mean(have_dis))\n",
    "print(\"mean normalized euclidean distance:\",np.mean(eucl_norm))\n",
    "print(\"mean normalized manhattan distance:\",np.mean(manh_norm))"
   ]
  },
  {
   "cell_type": "code",
   "execution_count": 35,
   "metadata": {},
   "outputs": [
    {
     "data": {
      "text/plain": [
       "'[MASK] is a yielding person.'"
      ]
     },
     "execution_count": 35,
     "metadata": {},
     "output_type": "execute_result"
    }
   ],
   "source": [
    "ADJTMP_male_DR[5]['sentence']"
   ]
  },
  {
   "cell_type": "markdown",
   "metadata": {},
   "source": [
    "## NOUNTMP"
   ]
  },
  {
   "cell_type": "code",
   "execution_count": null,
   "metadata": {},
   "outputs": [],
   "source": [
    "n_m = 'math, algebra, geometry, calculus, equations, computation, numbers, addition, science, technology, physics, chemistry, Einstein, NASA, experiment, astronomy'.lower().replace(\" \", \"\").split(',')\n",
    "n_f = 'poetry, art, dance, literature, novel, symphony, drama, sculpture'.lower().replace(\" \", \"\").split(',')"
   ]
  },
  {
   "cell_type": "code",
   "execution_count": 22,
   "metadata": {},
   "outputs": [
    {
     "name": "stdout",
     "output_type": "stream",
     "text": [
      "min absolute cosine distance & index: 0.1461215464318637 7\n",
      "mean : 0.39288390306634746\n",
      "min absolute euclidean distance & index: 0.5405951408781305 7\n",
      "mean : 0.8728354125524372\n",
      "min absolute manhattan distance & index: 0.5405951408781305 7\n",
      "mean : 1.7710037091055486\n",
      "min absolute haversine distance & index: 0.5405951408781305 7\n",
      "mean : 0.5952375012869069\n",
      "mean normalized euclidean distance: 0.3563335650308531\n",
      "mean normalized manhattan distance: 0.2951672848509248\n"
     ]
    }
   ],
   "source": [
    "with open('./N/NTMP_male_DR.txt', 'rb') as file:\n",
    "    ADJTMP_male_DR = pickle.load(file)\n",
    "with open('./N/NTMP_male_AttCAT.txt', 'rb') as file:\n",
    "    ADJTMP_male_AttCAT = pickle.load(file)\n",
    "\n",
    "\n",
    "AttCATscore_list = [ADJTMP_male_AttCAT[i][\"AttCAT\"].sum(axis = 0).reshape(1,-1) for i in range(len(ADJTMP_male_AttCAT))] # a list of 320 (7,) arrays\n",
    "DRscore_list = [ADJTMP_male_DR[i][\"mat\"].sum(axis = 0).reshape(1,-1) for i in range(len(ADJTMP_male_DR))]\n",
    "\n",
    "ip_abs_list = [abs(AttCATscore_list[i]/np.linalg.norm(AttCATscore_list[i])) for i in range(len(AttCATscore_list))]\n",
    "DR_abs_list = [abs(DRscore_list[i]/np.linalg.norm(DRscore_list[i])) for i in range(len(DRscore_list))]\n",
    "len(AttCATscore_list)\n",
    "\n",
    "\n",
    "\n",
    "from sklearn.metrics.pairwise import *\n",
    "cos_dis=[]\n",
    "eucl_dis = []\n",
    "manh_dis = []\n",
    "have_dis= []\n",
    "eucl_norm = []\n",
    "manh_norm = []\n",
    "\n",
    "for i in range(len(ADJTMP_male_DR)):\n",
    "    cos_dis.append(cosine_distances(ip_abs_list[i],DR_abs_list[i]).tolist()[0][0])\n",
    "    euc = euclidean_distances(ip_abs_list[i],DR_abs_list[i]).tolist()[0][0]\n",
    "    eucl_dis.append(euc)\n",
    "    eucl_norm.append(euc/np.sqrt(ip_abs_list[i][0].shape[0]))\n",
    "    mah = manhattan_distances(ip_abs_list[i],DR_abs_list[i]).tolist()[0][0]\n",
    "    manh_dis.append(mah)\n",
    "    manh_norm.append(mah/ip_abs_list[i][0].shape[0])\n",
    "    have_dis.append(haversine_distances(ip_abs_list[i][0][[0,3]].reshape(1,-1),DR_abs_list[i][0][[0,3]].reshape(1,-1)).tolist()[0][0])\n",
    "    \n",
    "    \n",
    "print(\"min absolute cosine distance & index:\", min(cos_dis),np.argmin(cos_dis))\n",
    "print(\"mean :\",np.mean(cos_dis))\n",
    "print(\"min absolute euclidean distance & index:\", min(eucl_dis),np.argmin(eucl_dis))\n",
    "print(\"mean :\",np.mean(eucl_dis))\n",
    "print(\"min absolute manhattan distance & index:\", min(eucl_dis),np.argmin(eucl_dis))\n",
    "print(\"mean :\",np.mean(manh_dis))\n",
    "print(\"min absolute haversine distance & index:\", min(eucl_dis),np.argmin(eucl_dis))\n",
    "print(\"mean :\",np.mean(have_dis))\n",
    "print(\"mean normalized euclidean distance:\",np.mean(eucl_norm))\n",
    "print(\"mean normalized manhattan distance:\",np.mean(manh_norm))"
   ]
  },
  {
   "cell_type": "code",
   "execution_count": 37,
   "metadata": {},
   "outputs": [
    {
     "data": {
      "text/plain": [
       "'[MASK] is good at addition.'"
      ]
     },
     "execution_count": 37,
     "metadata": {},
     "output_type": "execute_result"
    }
   ],
   "source": [
    "ADJTMP_male_DR[7]['sentence']"
   ]
  },
  {
   "cell_type": "code",
   "execution_count": 23,
   "metadata": {},
   "outputs": [
    {
     "name": "stdout",
     "output_type": "stream",
     "text": [
      "min absolute cosine distance & index: 0.20298639290461462 6\n",
      "mean : 0.37198535314724024\n",
      "min absolute euclidean distance & index: 0.6371599372550363 6\n",
      "mean : 0.8527650177986115\n",
      "min absolute manhattan distance & index: 0.6371599372550363 6\n",
      "mean : 1.7058299833148047\n",
      "min absolute haversine distance & index: 0.6371599372550363 6\n",
      "mean : 0.5941101164927508\n",
      "mean normalized euclidean distance: 0.3481398606836689\n",
      "mean normalized manhattan distance: 0.28430499721913416\n"
     ]
    }
   ],
   "source": [
    "with open('./N/NTMP_female_DR.txt', 'rb') as file:\n",
    "    ADJTMP_male_DR = pickle.load(file)\n",
    "with open('./N/NTMP_female_AttCAT.txt', 'rb') as file:\n",
    "    ADJTMP_male_AttCAT = pickle.load(file)\n",
    "\n",
    "\n",
    "AttCATscore_list = [ADJTMP_male_AttCAT[i][\"AttCAT\"].sum(axis = 0).reshape(1,-1) for i in range(len(ADJTMP_male_AttCAT))] # a list of 320 (7,) arrays\n",
    "DRscore_list = [ADJTMP_male_DR[i][\"mat\"].sum(axis = 0).reshape(1,-1) for i in range(len(ADJTMP_male_DR))]\n",
    "\n",
    "ip_abs_list = [abs(AttCATscore_list[i]/np.linalg.norm(AttCATscore_list[i])) for i in range(len(AttCATscore_list))]\n",
    "DR_abs_list = [abs(DRscore_list[i]/np.linalg.norm(DRscore_list[i])) for i in range(len(DRscore_list))]\n",
    "len(AttCATscore_list)\n",
    "\n",
    "\n",
    "\n",
    "from sklearn.metrics.pairwise import *\n",
    "cos_dis=[]\n",
    "eucl_dis = []\n",
    "manh_dis = []\n",
    "have_dis= []\n",
    "eucl_norm = []\n",
    "manh_norm = []\n",
    "\n",
    "for i in range(len(ADJTMP_male_DR)):\n",
    "    cos_dis.append(cosine_distances(ip_abs_list[i],DR_abs_list[i]).tolist()[0][0])\n",
    "    euc = euclidean_distances(ip_abs_list[i],DR_abs_list[i]).tolist()[0][0]\n",
    "    eucl_dis.append(euc)\n",
    "    eucl_norm.append(euc/np.sqrt(ip_abs_list[i][0].shape[0]))\n",
    "    mah = manhattan_distances(ip_abs_list[i],DR_abs_list[i]).tolist()[0][0]\n",
    "    manh_dis.append(mah)\n",
    "    manh_norm.append(mah/ip_abs_list[i][0].shape[0])\n",
    "    have_dis.append(haversine_distances(ip_abs_list[i][0][[0,3]].reshape(1,-1),DR_abs_list[i][0][[0,3]].reshape(1,-1)).tolist()[0][0])\n",
    "    \n",
    "    \n",
    "print(\"min absolute cosine distance & index:\", min(cos_dis),np.argmin(cos_dis))\n",
    "print(\"mean :\",np.mean(cos_dis))\n",
    "print(\"min absolute euclidean distance & index:\", min(eucl_dis),np.argmin(eucl_dis))\n",
    "print(\"mean :\",np.mean(eucl_dis))\n",
    "print(\"min absolute manhattan distance & index:\", min(eucl_dis),np.argmin(eucl_dis))\n",
    "print(\"mean :\",np.mean(manh_dis))\n",
    "print(\"min absolute haversine distance & index:\", min(eucl_dis),np.argmin(eucl_dis))\n",
    "print(\"mean :\",np.mean(have_dis))\n",
    "print(\"mean normalized euclidean distance:\",np.mean(eucl_norm))\n",
    "print(\"mean normalized manhattan distance:\",np.mean(manh_norm))"
   ]
  },
  {
   "cell_type": "code",
   "execution_count": 39,
   "metadata": {},
   "outputs": [
    {
     "data": {
      "text/plain": [
       "'[MASK] is good at drama.'"
      ]
     },
     "execution_count": 39,
     "metadata": {},
     "output_type": "execute_result"
    }
   ],
   "source": [
    "ADJTMP_male_DR[6]['sentence']"
   ]
  },
  {
   "cell_type": "markdown",
   "metadata": {},
   "source": [
    "## CSP dataset"
   ]
  },
  {
   "cell_type": "code",
   "execution_count": 4,
   "metadata": {},
   "outputs": [
    {
     "name": "stdout",
     "output_type": "stream",
     "text": [
      "min absolute cosine distance & index: 0.14999297600145955 195\n",
      "mean : 0.5776797314164592\n",
      "min absolute euclidean distance & index: 0.5477097274696098 195\n",
      "mean : 1.0623681740892243\n",
      "min absolute manhattan distance & index: 0.5477097274696098 195\n",
      "mean : 2.8149586896236065\n",
      "mean normalized euclidean distance: 0.3053661825754547\n",
      "mean normalized manhattan distance: 0.22938829059902463\n"
     ]
    }
   ],
   "source": [
    "with open('./CSP_DR_scores.txt', 'rb') as file:\n",
    "    ADJTMP_male_DR = pickle.load(file)\n",
    "with open('./AttCAT_mask_CSP.txt', 'rb') as file:\n",
    "    ADJTMP_male_AttCAT = pickle.load(file)\n",
    "\n",
    "\n",
    "AttCATscore_list = [ADJTMP_male_AttCAT[i][\"AttCAT\"].sum(axis = 0).reshape(1,-1) for i in range(len(ADJTMP_male_AttCAT))] # a list of 320 (7,) arrays\n",
    "DRscore_list = [ADJTMP_male_DR[i][\"mat\"].sum(axis = 0).reshape(1,-1) for i in range(len(ADJTMP_male_DR))]\n",
    "\n",
    "ip_abs_list = [abs(AttCATscore_list[i]/np.linalg.norm(AttCATscore_list[i])) for i in range(len(AttCATscore_list))]\n",
    "DR_abs_list = [abs(DRscore_list[i]/np.linalg.norm(DRscore_list[i])) for i in range(len(DRscore_list))]\n",
    "len(AttCATscore_list)\n",
    "\n",
    "\n",
    "\n",
    "from sklearn.metrics.pairwise import *\n",
    "cos_dis=[]\n",
    "eucl_dis = []\n",
    "manh_dis = []\n",
    "have_dis= []\n",
    "eucl_norm = []\n",
    "manh_norm = []\n",
    "\n",
    "for i in range(len(ADJTMP_male_DR)):\n",
    "    cos_dis.append(cosine_distances(ip_abs_list[i],DR_abs_list[i]).tolist()[0][0])\n",
    "    euc = euclidean_distances(ip_abs_list[i],DR_abs_list[i]).tolist()[0][0]\n",
    "    eucl_dis.append(euc)\n",
    "    eucl_norm.append(euc/np.sqrt(ip_abs_list[i][0].shape[0]))\n",
    "    mah = manhattan_distances(ip_abs_list[i],DR_abs_list[i]).tolist()[0][0]\n",
    "    manh_dis.append(mah)\n",
    "    manh_norm.append(mah/ip_abs_list[i][0].shape[0])\n",
    "    #have_dis.append(haversine_distances(ip_abs_list[i][0][[0,3]].reshape(1,-1),DR_abs_list[i][0][[0,3]].reshape(1,-1)).tolist()[0][0])\n",
    "    \n",
    "    \n",
    "print(\"min absolute cosine distance & index:\", min(cos_dis),np.argmin(cos_dis))\n",
    "print(\"mean :\",np.mean(cos_dis))\n",
    "print(\"min absolute euclidean distance & index:\", min(eucl_dis),np.argmin(eucl_dis))\n",
    "print(\"mean :\",np.mean(eucl_dis))\n",
    "print(\"min absolute manhattan distance & index:\", min(eucl_dis),np.argmin(eucl_dis))\n",
    "print(\"mean :\",np.mean(manh_dis))\n",
    "#print(\"min absolute haversine distance & index:\", min(eucl_dis),np.argmin(eucl_dis))\n",
    "#print(\"mean :\",np.mean(have_dis))\n",
    "print(\"mean normalized euclidean distance:\",np.mean(eucl_norm))\n",
    "print(\"mean normalized manhattan distance:\",np.mean(manh_norm))"
   ]
  },
  {
   "cell_type": "code",
   "execution_count": 5,
   "metadata": {},
   "outputs": [
    {
     "data": {
      "text/plain": [
       "'The blacks hated the whites at [MASK]'"
      ]
     },
     "execution_count": 5,
     "metadata": {},
     "output_type": "execute_result"
    }
   ],
   "source": [
    "ADJTMP_male_DR[195]['sentence']"
   ]
  }
 ],
 "metadata": {
  "kernelspec": {
   "display_name": "base",
   "language": "python",
   "name": "python3"
  },
  "language_info": {
   "codemirror_mode": {
    "name": "ipython",
    "version": 3
   },
   "file_extension": ".py",
   "mimetype": "text/x-python",
   "name": "python",
   "nbconvert_exporter": "python",
   "pygments_lexer": "ipython3",
   "version": "3.11.3"
  },
  "orig_nbformat": 4
 },
 "nbformat": 4,
 "nbformat_minor": 2
}
