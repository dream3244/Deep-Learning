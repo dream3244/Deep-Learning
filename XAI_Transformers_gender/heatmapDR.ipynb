{
 "cells": [
  {
   "cell_type": "markdown",
   "metadata": {},
   "source": [
    "# heatmap for OCCTMP and psycology template\n",
    "* need to turn Bert model for eval mode and load tokenizers\n",
    "* using stored tokens and matrix\n",
    "## config"
   ]
  },
  {
   "cell_type": "code",
   "execution_count": 1,
   "metadata": {},
   "outputs": [],
   "source": [
    "import torch\n",
    "import pickle\n",
    "import glob\n",
    "import math\n",
    "import random\n",
    "import numpy as np\n",
    "import pandas as pd\n",
    "import tqdm as tqdm\n",
    "from scipy.special import softmax\n",
    "import scipy.stats as stats\n",
    "\n",
    "import seaborn as sns\n",
    "import matplotlib.pyplot as plt\n",
    "from IPython.display import display, HTML\n",
    "\n",
    "from transformers import AutoTokenizer,BertTokenizer,BertForMaskedLM\n",
    "import torch\n",
    "\n",
    "device = torch.device('cuda' if torch.cuda.is_available() else 'cpu')\n",
    "\n",
    "config = 'base'\n",
    "nlayer = 12 if config == 'base' else 24\n",
    "nsamples = 50000 if config == 'base' else 100000\n",
    "\n"
   ]
  },
  {
   "cell_type": "code",
   "execution_count": 2,
   "metadata": {},
   "outputs": [
    {
     "data": {
      "text/plain": [
       "BertForMaskedLM(\n",
       "  (bert): BertModel(\n",
       "    (embeddings): BertEmbeddings(\n",
       "      (word_embeddings): Embedding(30522, 768, padding_idx=0)\n",
       "      (position_embeddings): Embedding(512, 768)\n",
       "      (token_type_embeddings): Embedding(2, 768)\n",
       "      (LayerNorm): LayerNorm((768,), eps=1e-12, elementwise_affine=True)\n",
       "      (dropout): Dropout(p=0.1, inplace=False)\n",
       "    )\n",
       "    (encoder): BertEncoder(\n",
       "      (layer): ModuleList(\n",
       "        (0-11): 12 x BertLayer(\n",
       "          (attention): BertAttention(\n",
       "            (self): BertSelfAttention(\n",
       "              (query): Linear(in_features=768, out_features=768, bias=True)\n",
       "              (key): Linear(in_features=768, out_features=768, bias=True)\n",
       "              (value): Linear(in_features=768, out_features=768, bias=True)\n",
       "              (dropout): Dropout(p=0.1, inplace=False)\n",
       "            )\n",
       "            (output): BertSelfOutput(\n",
       "              (dense): Linear(in_features=768, out_features=768, bias=True)\n",
       "              (LayerNorm): LayerNorm((768,), eps=1e-12, elementwise_affine=True)\n",
       "              (dropout): Dropout(p=0.1, inplace=False)\n",
       "            )\n",
       "          )\n",
       "          (intermediate): BertIntermediate(\n",
       "            (dense): Linear(in_features=768, out_features=3072, bias=True)\n",
       "          )\n",
       "          (output): BertOutput(\n",
       "            (dense): Linear(in_features=3072, out_features=768, bias=True)\n",
       "            (LayerNorm): LayerNorm((768,), eps=1e-12, elementwise_affine=True)\n",
       "            (dropout): Dropout(p=0.1, inplace=False)\n",
       "          )\n",
       "        )\n",
       "      )\n",
       "    )\n",
       "    (pooler): BertPooler(\n",
       "      (dense): Linear(in_features=768, out_features=768, bias=True)\n",
       "      (activation): Tanh()\n",
       "    )\n",
       "  )\n",
       "  (cls): BertOnlyMLMHead(\n",
       "    (predictions): BertLMPredictionHead(\n",
       "      (transform): BertPredictionHeadTransform(\n",
       "        (dense): Linear(in_features=768, out_features=768, bias=True)\n",
       "        (LayerNorm): LayerNorm((768,), eps=1e-12, elementwise_affine=True)\n",
       "      )\n",
       "      (decoder): Linear(in_features=768, out_features=30522, bias=False)\n",
       "    )\n",
       "  )\n",
       ")"
      ]
     },
     "execution_count": 2,
     "metadata": {},
     "output_type": "execute_result"
    }
   ],
   "source": [
    "model = BertForMaskedLM.from_pretrained('bert-'+config+'-uncased', output_hidden_states=True).to(device)\n",
    "tokenizer = BertTokenizer.from_pretrained('bert-'+config+'-uncased')\n",
    "# turn on eval mode\n",
    "model.eval()"
   ]
  },
  {
   "cell_type": "markdown",
   "metadata": {},
   "source": [
    "## bias_mat_mask\n",
    "{'sentence': ['[MASK] is the doctor here.'],\\\n",
    " 'tokens': [101, 103, 2003, 1996, 3460, 2182, 1012, 102],\\\n",
    " 'mat': array shape of (12,num_tokens)\\\n",
    " * heatmap"
   ]
  },
  {
   "cell_type": "code",
   "execution_count": 3,
   "metadata": {},
   "outputs": [
    {
     "data": {
      "text/plain": [
       "{'sentence': '[MASK] is the doctor here.',\n",
       " 'tokens': [101, 103, 2003, 1996, 3460, 2182, 1012, 102],\n",
       " 'mat': array([[-1.23598933e-01,  2.85372078e-01,  2.22296894e-01,\n",
       "          6.04331374e-01,  4.59932327e-01,  3.01609218e-01],\n",
       "        [-1.21629611e-03, -1.55912548e-01, -2.44785875e-01,\n",
       "         -7.83474922e-01, -4.81366992e-01, -3.48055720e-01],\n",
       "        [ 2.72217572e-01, -2.14662179e-02,  2.74740785e-01,\n",
       "          6.62678361e-01,  9.85262096e-01,  4.40110385e-01],\n",
       "        [ 7.10669518e-01,  2.84516215e-01,  4.06405896e-01,\n",
       "          1.08275723e+00,  8.07089984e-01,  3.93873096e-01],\n",
       "        [ 5.99127293e-01,  4.87333894e-01,  5.77009678e-01,\n",
       "          1.49719763e+00,  7.50395298e-01,  5.47433794e-01],\n",
       "        [ 9.20589626e-01,  1.05759621e+00,  9.08655643e-01,\n",
       "          1.74316430e+00,  1.13984680e+00,  4.87401366e-01],\n",
       "        [-7.47949481e-01, -8.91177058e-01, -8.74879897e-01,\n",
       "         -1.58309412e+00, -9.93537188e-01, -3.38357389e-01],\n",
       "        [ 1.21197116e+00,  1.11819553e+00,  1.21042275e+00,\n",
       "          1.67539752e+00,  8.34347367e-01,  7.75635719e-01],\n",
       "        [-1.57276642e+00, -1.36851060e+00, -1.63458133e+00,\n",
       "         -1.81536984e+00, -1.17456484e+00, -6.21300757e-01],\n",
       "        [-1.54349732e+00, -1.38066006e+00, -1.59462392e+00,\n",
       "         -1.63191247e+00, -1.10651970e+00, -4.72026855e-01],\n",
       "        [ 1.18524814e+00,  1.27523184e+00,  1.53241026e+00,\n",
       "          1.52699542e+00,  9.21562552e-01,  1.38294160e-01],\n",
       "        [ 3.68603468e-01,  3.74823064e-01,  7.91228354e-01,\n",
       "          4.41831589e-01,  3.72236788e-01,  2.73375243e-01]])}"
      ]
     },
     "execution_count": 3,
     "metadata": {},
     "output_type": "execute_result"
    }
   ],
   "source": [
    "import pickle\n",
    "with open('bias_dict 2.txt', 'rb') as file:\n",
    "    bias_mat_mask = pickle.load(file)\n",
    "bias_mat_mask[0]"
   ]
  },
  {
   "cell_type": "code",
   "execution_count": 4,
   "metadata": {},
   "outputs": [
    {
     "name": "stdout",
     "output_type": "stream",
     "text": [
      "0 [MASK] is the doctor here.\n",
      "1 [MASK] is the nurse here.\n",
      "2 [MASK] kiss [MASK].\n",
      "3 [MASK] is always sobbing\n",
      "4 [MASK] is a singer.\n",
      "5 [MASK] is a professor.\n",
      "6 [MASK] is a righteous child.\n"
     ]
    }
   ],
   "source": [
    "for i in range(len(bias_mat_mask)):\n",
    "    print(i,bias_mat_mask[i][\"sentence\"])"
   ]
  },
  {
   "cell_type": "markdown",
   "metadata": {},
   "source": [
    "### heatmap "
   ]
  },
  {
   "cell_type": "code",
   "execution_count": null,
   "metadata": {},
   "outputs": [],
   "source": [
    "for i in range(len(bias_mat_mask)):\n",
    "    sent = bias_mat_mask[i][\"sentence\"]\n",
    "    tokens =  [tokenizer.convert_ids_to_tokens(i) for i in bias_mat_mask[i][\"tokens\"]]\n",
    "    DRmat = bias_mat_mask[i][\"mat\"]\n",
    "    # summing all layers\n",
    "    Attsum = DRmat.sum(axis = 0)\n",
    "\n",
    "    DR_add = np.vstack([DRmat, Attsum])\n",
    "    # normalize\n",
    "    norm1_DR = DR_add / np.linalg.norm(DR_add)\n",
    "    #norm1_DR = DR_add\n",
    "    # plotting heatmap\n",
    "    yticklabels=['L'+str(i) for i in range(12)]\n",
    "    yticklabels.append('Sum')\n",
    "\n",
    "    fig, ax = plt.subplots(figsize=(len(tokens), 12))\n",
    "    sns.set(font_scale=1)\n",
    "    sns.heatmap(norm1_DR, xticklabels = tokens[1:-1], yticklabels=yticklabels,cmap=\"RdBu_r\",\n",
    "                    linewidths=0.1, annot=True, annot_kws={\"fontsize\":13, 'fontweight':'heavy'}, cbar_kws={\"values\":None, \"location\":'right',\n",
    "                                                                \"pad\":0.01}, fmt='.2f', cbar = True)\n",
    "\n",
    "    ax.set_xticklabels(ax.get_xmajorticklabels(), fontsize = 10, fontweight = 'heavy')\n",
    "    ax.set_yticklabels(ax.get_ymajorticklabels(), fontsize = 10, fontweight = 'heavy')\n",
    "\n",
    "    cbar = ax.collections[0].colorbar\n",
    "    cbar.ax.tick_params(labelsize=18)\n",
    "\n",
    "\n",
    "    plt.savefig('./bias_mat_mask/sum_2_{}.png'.format(i+1), format='png', transparent=True, dpi=360, bbox_inches='tight')\n",
    "    plt.show()\n",
    "\n",
    "    plt.close(fig)\n"
   ]
  },
  {
   "cell_type": "markdown",
   "metadata": {},
   "source": [
    "### AttDR heatmap  "
   ]
  },
  {
   "cell_type": "code",
   "execution_count": 5,
   "metadata": {},
   "outputs": [
    {
     "name": "stdout",
     "output_type": "stream",
     "text": [
      "0 [MASK] is the doctor here.\n",
      "1 [MASK] is the nurse here.\n",
      "2 [MASK] kiss [MASK].\n",
      "3 [MASK] is always sobbing\n",
      "4 [MASK] is a singer.\n",
      "5 [MASK] is a professor.\n",
      "6 [MASK] is a righteous child.\n"
     ]
    }
   ],
   "source": [
    "for i in range(len(bias_mat_mask)):\n",
    "    print(i,bias_mat_mask[i][\"sentence\"])"
   ]
  },
  {
   "cell_type": "code",
   "execution_count": 6,
   "metadata": {},
   "outputs": [
    {
     "data": {
      "text/plain": [
       "{'AttCAT': array([[-0.24311267, -0.01408185,  0.10564898, -0.05828186, -0.01046947,\n",
       "          0.00105955],\n",
       "        [-0.12379465,  0.14104491,  0.02927044, -0.03366445, -0.00789922,\n",
       "         -0.03249025],\n",
       "        [ 0.09726673, -0.02564776, -0.06509493, -0.07274643,  0.05386597,\n",
       "          0.19202062],\n",
       "        [-0.37064782,  0.09261753,  0.00777952,  0.03949125,  0.24566403,\n",
       "         -0.30992293],\n",
       "        [-0.04263381,  0.04969227, -0.02631668,  0.01251977,  0.15909366,\n",
       "          0.02571761],\n",
       "        [-0.01127937, -0.02012325, -0.06344458,  0.09449897,  0.14478475,\n",
       "         -0.00951712],\n",
       "        [-0.05634573, -0.08957367, -0.00824002,  0.00746885,  0.04497284,\n",
       "         -0.03117601],\n",
       "        [-0.28012013, -0.01064845, -0.02117289,  0.03726751,  0.00061961,\n",
       "         -0.01273201],\n",
       "        [-0.17958713,  0.06280726,  0.00556925,  0.00698017, -0.02915086,\n",
       "          0.01881862],\n",
       "        [-0.10979632,  0.03368976, -0.02023361, -0.00157567, -0.02996178,\n",
       "          0.03914665],\n",
       "        [-0.00697395, -0.01666966, -0.00864398,  0.00275093, -0.00399296,\n",
       "          0.0407043 ],\n",
       "        [ 0.37833813, -0.0571904 , -0.06755546, -0.0174091 , -0.04133369,\n",
       "         -0.25283957]], dtype=float32),\n",
       " 'raws': array([[0.52183294, 0.1301492 , 0.13157539, 0.06434485, 0.06816667,\n",
       "         0.083931  ],\n",
       "        [0.31989485, 0.18789288, 0.10176801, 0.10062309, 0.12963778,\n",
       "         0.16018346],\n",
       "        [0.18341607, 0.3246492 , 0.12977514, 0.07272198, 0.08138701,\n",
       "         0.2080506 ],\n",
       "        [0.2512998 , 0.20514207, 0.12874207, 0.11883976, 0.08878588,\n",
       "         0.20719044],\n",
       "        [0.2110673 , 0.21635866, 0.17932174, 0.10157266, 0.12366873,\n",
       "         0.16801095],\n",
       "        [0.25643516, 0.28430367, 0.15142064, 0.0966631 , 0.11746248,\n",
       "         0.09371495],\n",
       "        [0.44916457, 0.22449231, 0.0988564 , 0.05690888, 0.06890805,\n",
       "         0.10166985],\n",
       "        [0.37085575, 0.20051542, 0.18937308, 0.07767645, 0.0935031 ,\n",
       "         0.06807627],\n",
       "        [0.24625835, 0.3272866 , 0.1395679 , 0.04920888, 0.09970278,\n",
       "         0.13797553],\n",
       "        [0.2652915 , 0.2574056 , 0.11208507, 0.0305008 , 0.11921275,\n",
       "         0.21550429],\n",
       "        [0.25656235, 0.15585831, 0.0908028 , 0.04199371, 0.09767278,\n",
       "         0.3571101 ],\n",
       "        [0.24879955, 0.1323334 , 0.13670647, 0.07511271, 0.1223969 ,\n",
       "         0.284651  ]], dtype=float32),\n",
       " 'CAT_h': array([[0.12499999, 0.125     , 0.125     , 0.125     , 0.125     ,\n",
       "         0.125     , 0.12499999, 0.12500001, 0.125     , 0.125     ,\n",
       "         0.125     , 0.125     ],\n",
       "        [0.125     , 0.12499999, 0.12499999, 0.125     , 0.12500001,\n",
       "         0.12499999, 0.125     , 0.125     , 0.125     , 0.125     ,\n",
       "         0.12499999, 0.125     ],\n",
       "        [0.12499999, 0.125     , 0.12500001, 0.125     , 0.125     ,\n",
       "         0.12499999, 0.125     , 0.125     , 0.12499999, 0.12499999,\n",
       "         0.125     , 0.125     ],\n",
       "        [0.12499999, 0.125     , 0.12499999, 0.125     , 0.125     ,\n",
       "         0.125     , 0.125     , 0.125     , 0.125     , 0.125     ,\n",
       "         0.125     , 0.12499999],\n",
       "        [0.12500001, 0.125     , 0.125     , 0.125     , 0.12499999,\n",
       "         0.125     , 0.125     , 0.125     , 0.125     , 0.125     ,\n",
       "         0.125     , 0.12499999],\n",
       "        [0.125     , 0.12499999, 0.12499999, 0.12499999, 0.125     ,\n",
       "         0.125     , 0.12499999, 0.125     , 0.125     , 0.125     ,\n",
       "         0.125     , 0.125     ],\n",
       "        [0.125     , 0.125     , 0.125     , 0.12500001, 0.125     ,\n",
       "         0.12499999, 0.12500001, 0.125     , 0.125     , 0.12500001,\n",
       "         0.125     , 0.125     ],\n",
       "        [0.12499999, 0.125     , 0.12499999, 0.125     , 0.125     ,\n",
       "         0.12499999, 0.12499999, 0.12499999, 0.12500001, 0.12500001,\n",
       "         0.125     , 0.125     ],\n",
       "        [0.125     , 0.125     , 0.125     , 0.125     , 0.12499999,\n",
       "         0.125     , 0.125     , 0.12499999, 0.125     , 0.125     ,\n",
       "         0.125     , 0.125     ],\n",
       "        [0.125     , 0.125     , 0.12499999, 0.12499999, 0.125     ,\n",
       "         0.12499999, 0.125     , 0.12499999, 0.125     , 0.125     ,\n",
       "         0.125     , 0.125     ],\n",
       "        [0.125     , 0.125     , 0.12499999, 0.125     , 0.125     ,\n",
       "         0.125     , 0.125     , 0.125     , 0.125     , 0.125     ,\n",
       "         0.125     , 0.12500001],\n",
       "        [0.125     , 0.125     , 0.125     , 0.12499999, 0.125     ,\n",
       "         0.125     , 0.125     , 0.125     , 0.12499999, 0.12499999,\n",
       "         0.125     , 0.125     ]], dtype=float32),\n",
       " 'CAT': array([[-0.46588218, -0.1081977 ,  0.80295396, -0.9057735 , -0.15358633,\n",
       "          0.01262408],\n",
       "        [-0.38698542,  0.7506666 ,  0.28761923, -0.33455992, -0.06093304,\n",
       "         -0.2028315 ],\n",
       "        [ 0.53030646, -0.07900146, -0.5015978 , -1.0003362 ,  0.6618498 ,\n",
       "          0.9229516 ],\n",
       "        [-1.4749229 ,  0.45147997,  0.0604272 ,  0.33230674,  2.7669268 ,\n",
       "         -1.495836  ],\n",
       "        [-0.20199156,  0.22967544, -0.14675677,  0.12325926,  1.2864501 ,\n",
       "          0.15307106],\n",
       "        [-0.04398528, -0.07078081, -0.41899556,  0.9776116 ,  1.2326043 ,\n",
       "         -0.10155395],\n",
       "        [-0.12544562, -0.3990055 , -0.08335342,  0.13124235,  0.65265   ,\n",
       "         -0.30663967],\n",
       "        [-0.7553345 , -0.05310541, -0.11180517,  0.4797788 ,  0.00662667,\n",
       "         -0.18702574],\n",
       "        [-0.72926307,  0.19190294,  0.03990352,  0.1418478 , -0.29237762,\n",
       "          0.13639098],\n",
       "        [-0.41387045,  0.130882  , -0.18052015, -0.05165984, -0.25133035,\n",
       "          0.18165135],\n",
       "        [-0.02718227, -0.10695393, -0.09519504,  0.06550814, -0.04088101,\n",
       "          0.1139825 ],\n",
       "        [ 1.5206544 , -0.43216908, -0.49416432, -0.23177299, -0.33770213,\n",
       "         -0.8882441 ]], dtype=float32),\n",
       " 'lines': '[MASK] is the doctor here.',\n",
       " 'tokens': ['[CLS]', '[MASK]', 'is', 'the', 'doctor', 'here', '.', '[SEP]'],\n",
       " 'mask': array([[0, 1, 1, 1, 1, 1, 1, 0]], dtype=int64)}"
      ]
     },
     "execution_count": 6,
     "metadata": {},
     "output_type": "execute_result"
    }
   ],
   "source": [
    "import pickle\n",
    "with open('bias_Attcat_example.txt', 'rb') as file:\n",
    "    Att_cat = pickle.load(file)\n",
    "Att_cat[0]"
   ]
  },
  {
   "cell_type": "code",
   "execution_count": null,
   "metadata": {},
   "outputs": [],
   "source": [
    "for i in range(len(bias_mat_mask)):\n",
    "    sent = bias_mat_mask[i][\"sentence\"]\n",
    "    prof_str = Att_cat[i][\"lines\"].strip().split()[-2]\n",
    "    tokens =  [tokenizer.convert_ids_to_tokens(i) for i in bias_mat_mask[i][\"tokens\"]]\n",
    "    DRmat = bias_mat_mask[i][\"mat\"]\n",
    "    Attmat = Att_cat[i][\"raws\"]\n",
    "    \n",
    "    DRmat = DRmat * Attmat\n",
    "    # summing all layers\n",
    "    DRsum = DRmat.sum(axis = 0)\n",
    "    #Attsum=Attmat.sum(axis = 0)\n",
    "\n",
    "    DR_add = np.vstack([DRmat, DRsum])\n",
    "    #Att_add = np.vstack([Attmat, Attsum])\n",
    "    \n",
    "    #DR_add = DR_add * Att_add\n",
    "    # normalize\n",
    "    norm1_DR = DR_add / np.linalg.norm(DR_add)\n",
    "    #norm1_DR = DR_add\n",
    "    #norm1_DR =DRmat\n",
    "    # plotting heatmap\n",
    "    yticklabels=['L'+str(i) for i in range(12)]\n",
    "    yticklabels.append('Sum')\n",
    "\n",
    "    fig, ax = plt.subplots(figsize=(len(tokens)-2, 12))\n",
    "    sns.set(font_scale=1)\n",
    "    sns.heatmap(norm1_DR, xticklabels = tokens[1:-1], yticklabels=yticklabels,cmap=\"RdBu_r\",\n",
    "                    linewidths=0.1, annot=True, annot_kws={\"fontsize\":13, 'fontweight':'heavy'}, cbar_kws={\"values\":None, \"location\":'right',\n",
    "                                                                \"pad\":0.01}, fmt='.2f', cbar = True)\n",
    "\n",
    "    ax.set_xticklabels(ax.get_xmajorticklabels(), fontsize = 10, fontweight = 'heavy')\n",
    "    ax.set_yticklabels(ax.get_ymajorticklabels(), fontsize = 10, fontweight = 'heavy')\n",
    "\n",
    "    cbar = ax.collections[0].colorbar\n",
    "    cbar.ax.tick_params(labelsize=18)\n",
    "    \n",
    "\n",
    "\n",
    "    plt.savefig('./AttDR/bias_viz_{}.png'.format(prof_str), format='png', transparent=True, dpi=360, bbox_inches='tight')\n",
    "        # 显示热力图\n",
    "    plt.show()\n",
    "\n",
    "    # 关闭图形，以便下一个循环重新创建\n",
    "    plt.close(fig)\n"
   ]
  },
  {
   "cell_type": "markdown",
   "metadata": {},
   "source": [
    "## OCCTMP\n",
    "### OCCTMP_list\n",
    "* template: he/she is a [profession]\n",
    "* densray score of he/she present below"
   ]
  },
  {
   "cell_type": "code",
   "execution_count": 6,
   "metadata": {},
   "outputs": [
    {
     "data": {
      "text/plain": [
       "{'sentence1': ' he is a accountant .',\n",
       " 'tokens1': [101, 2002, 2003, 1037, 17907, 1012, 102],\n",
       " 'mat1': array([[ 5.32454681,  0.33832213,  0.25269383,  0.57135195,  0.03899688],\n",
       "        [-4.73321724, -0.1299808 , -0.44438219, -0.68992591, -0.06345612],\n",
       "        [ 3.75510621, -0.12136155,  0.27747083,  0.75560224,  0.03975584],\n",
       "        [ 3.77788854, -0.06726316,  0.72017759,  0.82355601,  0.47531089],\n",
       "        [ 3.88400197,  0.24006933,  0.51394749,  0.7727055 ,  0.36834329],\n",
       "        [ 3.12599778,  0.64398086,  0.84718817,  0.72398514,  0.24307808],\n",
       "        [-2.76352692, -0.78018814, -1.08114994, -1.01944566, -0.28006387],\n",
       "        [ 2.49982095,  0.91912311,  0.99308276,  1.1681993 ,  0.88281202],\n",
       "        [-2.54729128, -1.33619535, -1.46621203, -1.69879496, -0.93117231],\n",
       "        [-1.8781234 , -0.91943836, -1.44713521, -1.21811461, -0.87684315],\n",
       "        [ 1.90900517,  1.33437777,  1.47590017,  1.04317796,  0.61595803],\n",
       "        [ 0.32573789,  0.08717904,  0.17616412, -0.00990337,  0.06561596]]),\n",
       " 'sentence2': ' she is a accountant .',\n",
       " 'tokens2': [101, 2016, 2003, 1037, 17907, 1012, 102],\n",
       " 'mat2': array([[-6.04782200e+00,  2.12842405e-01,  2.38132834e-01,\n",
       "          4.57832247e-01,  4.23244387e-03],\n",
       "        [ 5.01163006e+00, -7.42784739e-02, -3.81871462e-01,\n",
       "         -5.77512801e-01, -7.28289187e-02],\n",
       "        [-4.42926931e+00, -6.83277249e-02,  3.58126521e-01,\n",
       "          7.81957269e-01,  2.37968817e-01],\n",
       "        [-3.52645302e+00,  2.41767764e-01,  9.72749829e-01,\n",
       "          9.27420020e-01,  8.41555774e-01],\n",
       "        [-2.51583052e+00,  3.83640885e-01,  4.96323735e-01,\n",
       "          7.04435110e-01,  5.52798092e-01],\n",
       "        [-1.68198228e+00,  7.95295477e-01,  9.19216514e-01,\n",
       "          7.15949178e-01,  5.10319293e-01],\n",
       "        [ 9.61446524e-01, -8.30730081e-01, -1.14612627e+00,\n",
       "         -1.08137608e+00, -5.37055969e-01],\n",
       "        [-6.94324613e-01,  8.22612226e-01,  9.67509449e-01,\n",
       "          1.16987813e+00,  9.74178791e-01],\n",
       "        [-2.93876618e-01, -1.03005338e+00, -1.29513085e+00,\n",
       "         -1.63635969e+00, -1.20014131e+00],\n",
       "        [-5.23603559e-02, -7.63913512e-01, -1.09085977e+00,\n",
       "         -1.04749286e+00, -8.30788493e-01],\n",
       "        [ 3.30013573e-01,  1.00021791e+00,  1.06961834e+00,\n",
       "          8.13095570e-01,  6.08845592e-01],\n",
       "        [-4.13622677e-01, -1.80471376e-01, -1.28254279e-01,\n",
       "         -2.55878896e-01,  4.87052649e-02]])}"
      ]
     },
     "execution_count": 6,
     "metadata": {},
     "output_type": "execute_result"
    }
   ],
   "source": [
    "with open('OCCTMP_2_dict 2.txt', 'rb') as file:\n",
    "    OCCTMP_list = pickle.load(file)\n",
    "OCCTMP_list[0]"
   ]
  },
  {
   "cell_type": "markdown",
   "metadata": {},
   "source": [
    "#### heatmap"
   ]
  },
  {
   "cell_type": "code",
   "execution_count": null,
   "metadata": {},
   "outputs": [],
   "source": [
    "for i in range(len(OCCTMP_list)):\n",
    "    sent = OCCTMP_list[i][\"sentence1\"]\n",
    "    prof_str = sent[8:-2]\n",
    "    tokens =  [tokenizer.convert_ids_to_tokens(i) for i in OCCTMP_list[i][\"tokens1\"]]\n",
    "    DRmat = OCCTMP_list[i][\"mat1\"]\n",
    "    # summing all layers\n",
    "    Attsum = DRmat.sum(axis = 0)\n",
    "\n",
    "    DR_add = np.vstack([DRmat, Attsum])\n",
    "    # normalize\n",
    "    norm1_DR = DR_add / np.linalg.norm(DR_add)\n",
    "    #norm1_DR = DR_add\n",
    "    # plotting heatmap\n",
    "    yticklabels=['L'+str(i) for i in range(12)]\n",
    "    yticklabels.append('Sum')\n",
    "\n",
    "    fig, ax = plt.subplots(figsize=(len(tokens), 12))\n",
    "    sns.set(font_scale=1)\n",
    "    sns.heatmap(norm1_DR, xticklabels = tokens[1:-1], yticklabels=yticklabels,cmap=\"RdBu_r\",\n",
    "                    linewidths=0.1, annot=True, annot_kws={\"fontsize\":13, 'fontweight':'heavy'}, cbar_kws={\"values\":None, \"location\":'right',\n",
    "                                                                \"pad\":0.01}, fmt='.2f', cbar = True)\n",
    "\n",
    "    ax.set_xticklabels(ax.get_xmajorticklabels(), fontsize = 10, fontweight = 'heavy')\n",
    "    ax.set_yticklabels(ax.get_ymajorticklabels(), fontsize = 10, fontweight = 'heavy')\n",
    "\n",
    "    cbar = ax.collections[0].colorbar\n",
    "    cbar.ax.tick_params(labelsize=18)\n",
    "    \n",
    "\n",
    "\n",
    "    plt.savefig('./OTTCMP_2/he_norml{}.png'.format(prof_str), format='png', transparent=True, dpi=360, bbox_inches='tight')\n",
    "    plt.show()\n",
    "\n",
    "    plt.close(fig)\n"
   ]
  },
  {
   "cell_type": "markdown",
   "metadata": {},
   "source": [
    "### OCCTMP_mask_list\n",
    "* template: [MASK] is a [profession]\n",
    "* densray score of the sentence with layers store in the map\n",
    "* eg {'line': '[MASK] is a accountant .',\\\n",
    " 'tokens': [101, 103, 2003, 1037, 17907, 1012, 102],\\\n",
    " 'mat': shape of (12,num_tokens)}"
   ]
  },
  {
   "cell_type": "code",
   "execution_count": 8,
   "metadata": {},
   "outputs": [
    {
     "data": {
      "text/plain": [
       "{'sentence': '[MASK] is the accountant in this area',\n",
       " 'tokens': [101, 103, 2003, 1996, 17907, 1999, 2023, 2181, 102],\n",
       " 'mat': array([[-0.12723832,  0.12338012,  0.26162529,  0.5270707 ,  0.38655972,\n",
       "          0.42777726,  0.05973439],\n",
       "        [-0.10972086,  0.2289257 , -0.18629903, -0.61673135, -0.2903167 ,\n",
       "         -0.16896838, -0.32122222],\n",
       "        [ 0.37841862, -0.29073235,  0.2535246 ,  0.63539416,  0.570714  ,\n",
       "          0.65935314,  0.53296798],\n",
       "        [ 0.99101889,  0.42667192,  0.68279511,  0.99783945,  0.51947659,\n",
       "          1.01981199,  0.53092974],\n",
       "        [ 0.62681252,  0.15604782,  0.71416527,  0.89080489,  0.36947694,\n",
       "          1.00408363,  0.75628752],\n",
       "        [ 0.60599101,  0.65527928,  0.85942727,  1.09864187,  1.19506991,\n",
       "          1.24768019,  1.31691718],\n",
       "        [-0.9364351 , -1.15911961, -1.38331461, -1.38612914, -1.53885317,\n",
       "         -1.34891069, -1.43035066],\n",
       "        [ 1.23710072,  1.20817566,  1.21636295,  1.36881185,  1.26998138,\n",
       "          0.8862865 ,  0.91517901],\n",
       "        [-1.87560213, -1.67908454, -1.77142644, -2.15585089, -1.91915596,\n",
       "         -1.68241549, -1.53374004],\n",
       "        [-1.26780307, -1.16596138, -1.44251633, -1.44316912, -1.31021345,\n",
       "         -1.12458134, -1.29251456],\n",
       "        [ 1.68697596,  1.67111099,  1.81636178,  1.72782695,  1.28919125,\n",
       "          1.38042665,  1.48638296],\n",
       "        [ 0.32441309,  0.24322975,  0.31308311,  0.29613036,  0.16289085,\n",
       "          0.25591591,  0.23532146]])}"
      ]
     },
     "execution_count": 8,
     "metadata": {},
     "output_type": "execute_result"
    }
   ],
   "source": [
    "with open('OCCTMP_mask_dict3.txt', 'rb') as file:\n",
    "    OCCTMP_mask_list = pickle.load(file)\n",
    "OCCTMP_mask_list[0]"
   ]
  },
  {
   "cell_type": "markdown",
   "metadata": {},
   "source": [
    "#### heatmap"
   ]
  },
  {
   "cell_type": "code",
   "execution_count": null,
   "metadata": {},
   "outputs": [],
   "source": [
    "for i in range(len(OCCTMP_mask_list)):\n",
    "    sent = OCCTMP_mask_list[i][\"sentence\"]\n",
    "    prof_str = sent[12:-2]\n",
    "    tokens =  [tokenizer.convert_ids_to_tokens(i) for i in OCCTMP_mask_list[i][\"tokens\"]]\n",
    "    DRmat = OCCTMP_mask_list[i][\"mat\"]\n",
    "    # summing all layers\n",
    "    Attsum = DRmat.sum(axis = 0)\n",
    "\n",
    "    DR_add = np.vstack([DRmat, Attsum])\n",
    "    # normalize\n",
    "    norm1_DR = DR_add / np.linalg.norm(DR_add)\n",
    "    #norm1_DR = DR_add\n",
    "    # plotting heatmap\n",
    "    yticklabels=['L'+str(i) for i in range(12)]\n",
    "    yticklabels.append('Sum')\n",
    "\n",
    "    fig, ax = plt.subplots(figsize=(len(tokens), 12))\n",
    "    sns.set(font_scale=1)\n",
    "    sns.heatmap(norm1_DR, xticklabels = tokens[1:-1], yticklabels=yticklabels,cmap=\"RdBu_r\",\n",
    "                    linewidths=0.1, annot=True, annot_kws={\"fontsize\":13, 'fontweight':'heavy'}, cbar_kws={\"values\":None, \"location\":'right',\n",
    "                                                                \"pad\":0.01}, fmt='.2f', cbar = True)\n",
    "\n",
    "    ax.set_xticklabels(ax.get_xmajorticklabels(), fontsize = 10, fontweight = 'heavy')\n",
    "    ax.set_yticklabels(ax.get_ymajorticklabels(), fontsize = 10, fontweight = 'heavy')\n",
    "\n",
    "    cbar = ax.collections[0].colorbar\n",
    "    cbar.ax.tick_params(labelsize=18)\n",
    "    \n",
    "\n",
    "\n",
    "    plt.savefig('./OTTCMP_mask_2/normlDR_{}.png'.format(prof_str), format='png', transparent=True, dpi=360, bbox_inches='tight')\n",
    "        # 显示热力图\n",
    "    plt.show()\n",
    "\n",
    "    # 关闭图形，以便下一个循环重新创建\n",
    "    plt.close(fig)\n"
   ]
  },
  {
   "cell_type": "markdown",
   "metadata": {},
   "source": [
    "### OCCTMP_AttCAT"
   ]
  },
  {
   "cell_type": "code",
   "execution_count": 13,
   "metadata": {},
   "outputs": [
    {
     "name": "stdout",
     "output_type": "stream",
     "text": [
      "320\n",
      "AttCAT <class 'numpy.ndarray'>\n",
      "raws <class 'numpy.ndarray'>\n",
      "CAT_h <class 'numpy.ndarray'>\n",
      "CAT <class 'numpy.ndarray'>\n",
      "lines <class 'str'>\n",
      "tokens <class 'list'>\n",
      "mask <class 'torch.Tensor'>\n"
     ]
    }
   ],
   "source": [
    "with open('OCCTMP_mask_AttCAT_origin.txt', 'rb') as file:\n",
    "    Att_cat = pickle.load(file)\n",
    "print(len(Att_cat))\n",
    "for (k,v) in Att_cat[0].items():\n",
    "    print(k,type(v))"
   ]
  },
  {
   "cell_type": "code",
   "execution_count": 14,
   "metadata": {},
   "outputs": [
    {
     "name": "stdout",
     "output_type": "stream",
     "text": [
      "AttCAT (12, 7)\n",
      "raws (12, 7)\n",
      "CAT_h (12, 12)\n",
      "CAT (12, 7)\n",
      "lines [MASK] is the accountant in this area\n",
      "tokens 9 ['[CLS]', '[MASK]', 'is', 'the', 'accountant', 'in', 'this', 'area', '[SEP]']\n",
      "mask torch.Size([1, 9])\n"
     ]
    }
   ],
   "source": [
    "for (k,v) in Att_cat[0].items():\n",
    "        if k==\"lines\":\n",
    "            print(k,v)\n",
    "        elif k==\"tokens\":\n",
    "            print(k,len(v),v)\n",
    "        else:\n",
    "            print(k,v.shape)"
   ]
  },
  {
   "cell_type": "code",
   "execution_count": 32,
   "metadata": {},
   "outputs": [
    {
     "data": {
      "text/plain": [
       "'accountant'"
      ]
     },
     "execution_count": 32,
     "metadata": {},
     "output_type": "execute_result"
    }
   ],
   "source": [
    " Att_cat[0][\"lines\"].strip().split()[-4]"
   ]
  },
  {
   "cell_type": "markdown",
   "metadata": {},
   "source": [
    "#### 0. AttCAT for OCCTMP template"
   ]
  },
  {
   "cell_type": "code",
   "execution_count": null,
   "metadata": {},
   "outputs": [],
   "source": [
    "for i in range(len(Att_cat)):\n",
    "    sent = Att_cat[i][\"lines\"]\n",
    "    prof_str =  Att_cat[i][\"lines\"].strip().split()[-4]\n",
    "    tokens =  Att_cat[i][\"tokens\"]\n",
    "    AttCAT = Att_cat[i][\"AttCAT\"]\n",
    "    \n",
    "    # summing all layers\n",
    "    AttCATsum = AttCAT.sum(axis = 0)\n",
    "    #Attsum=Attmat.sum(axis = 0)\n",
    "\n",
    "    AttCAT_add = np.vstack([AttCAT, AttCATsum])\n",
    "    #Att_add = np.vstack([Attmat, Attsum])\n",
    "    \n",
    "    #DR_add = DR_add * Att_add\n",
    "    # normalize\n",
    "    norm1_AttCAT = AttCAT_add / np.linalg.norm(AttCAT_add)\n",
    "    #norm1_DR = DR_add\n",
    "    #norm1_DR =DRmat\n",
    "    # plotting heatmap\n",
    "    yticklabels=['L'+str(i) for i in range(12)]\n",
    "    yticklabels.append('Sum')\n",
    "\n",
    "    fig, ax = plt.subplots(figsize=(len(tokens)-2, 12))\n",
    "    sns.set(font_scale=1)\n",
    "    sns.heatmap(norm1_AttCAT, xticklabels = tokens[1:-1], yticklabels=yticklabels,cmap=\"RdBu_r\",\n",
    "                    linewidths=0.1, annot=True, annot_kws={\"fontsize\":13, 'fontweight':'heavy'}, cbar_kws={\"values\":None, \"location\":'right',\n",
    "                                                                \"pad\":0.01}, fmt='.2f', cbar = True)\n",
    "\n",
    "    ax.set_xticklabels(ax.get_xmajorticklabels(), fontsize = 10, fontweight = 'heavy')\n",
    "    ax.set_yticklabels(ax.get_ymajorticklabels(), fontsize = 10, fontweight = 'heavy')\n",
    "\n",
    "    cbar = ax.collections[0].colorbar\n",
    "    cbar.ax.tick_params(labelsize=18)\n",
    "    \n",
    "\n",
    "\n",
    "    plt.savefig('./OTTCMP_AttCAT/{}_2.png'.format(prof_str), format='png', transparent=True, dpi=360, bbox_inches='tight')\n",
    "        # 显示热力图\n",
    "    plt.show()\n",
    "\n",
    "    # 关闭图形，以便下一个循环重新创建\n",
    "    plt.close(fig)"
   ]
  },
  {
   "cell_type": "markdown",
   "metadata": {},
   "source": [
    "####  AttDR\n",
    "* now we have (12,num_tokens) DR_mat for OCCTMP in\\\n",
    " DRmat = OCCTMP_mask_list[i][\"mat\"]\n",
    "* also have a (12,num_tokens) Att_mat for OCCTMP in\\\n",
    "Attmat = Att_psy[i][\"raws\"]\n",
    "* element-wise product for DRCAT and try "
   ]
  },
  {
   "cell_type": "code",
   "execution_count": null,
   "metadata": {},
   "outputs": [],
   "source": [
    "for i in range(len(OCCTMP_mask_list)):\n",
    "    sent = OCCTMP_mask_list[i][\"sentence\"]\n",
    "    prof_str = Att_cat[i][\"lines\"].strip().split()[-4]\n",
    "    tokens =  [tokenizer.convert_ids_to_tokens(i) for i in OCCTMP_mask_list[i][\"tokens\"]]\n",
    "    DRmat = OCCTMP_mask_list[i][\"mat\"]\n",
    "    Attmat = Att_cat[i][\"raws\"]\n",
    "    \n",
    "    DRmat = DRmat * Attmat\n",
    "    # summing all layers\n",
    "    DRsum = DRmat.sum(axis = 0)\n",
    "    #Attsum=Attmat.sum(axis = 0)\n",
    "\n",
    "    DR_add = np.vstack([DRmat, DRsum])\n",
    "    #Att_add = np.vstack([Attmat, Attsum])\n",
    "    \n",
    "    #DR_add = DR_add * Att_add\n",
    "    # normalize\n",
    "    norm1_DR = DR_add / np.linalg.norm(DR_add)\n",
    "    #norm1_DR = DR_add\n",
    "    #norm1_DR =DRmat\n",
    "    # plotting heatmap\n",
    "    yticklabels=['L'+str(i) for i in range(12)]\n",
    "    yticklabels.append('Sum')\n",
    "\n",
    "    fig, ax = plt.subplots(figsize=(len(tokens)-2, 12))\n",
    "    sns.set(font_scale=1)\n",
    "    sns.heatmap(norm1_DR, xticklabels = tokens[1:-1], yticklabels=yticklabels,cmap=\"RdBu_r\",\n",
    "                    linewidths=0.1, annot=True, annot_kws={\"fontsize\":13, 'fontweight':'heavy'}, cbar_kws={\"values\":None, \"location\":'right',\n",
    "                                                                \"pad\":0.01}, fmt='.2f', cbar = True)\n",
    "\n",
    "    ax.set_xticklabels(ax.get_xmajorticklabels(), fontsize = 10, fontweight = 'heavy')\n",
    "    ax.set_yticklabels(ax.get_ymajorticklabels(), fontsize = 10, fontweight = 'heavy')\n",
    "\n",
    "    cbar = ax.collections[0].colorbar\n",
    "    cbar.ax.tick_params(labelsize=18)\n",
    "    \n",
    "\n",
    "\n",
    "    plt.savefig('./AttDR/{}.png'.format(prof_str), format='png', transparent=True, dpi=360, bbox_inches='tight')\n",
    "        # 显示热力图\n",
    "    plt.show()\n",
    "\n",
    "    # 关闭图形，以便下一个循环重新创建\n",
    "    plt.close(fig)\n"
   ]
  },
  {
   "cell_type": "markdown",
   "metadata": {},
   "source": [
    "#### 2. DRCAT\n",
    "* now we have (12,num_tokens) DR_mat for OCCTMP in\\\n",
    " DRmat = OCCTMP_mask_list[i][\"mat\"]\n",
    "* also have a (12,num_tokens) CAT_mat for OCCTMP in\\\n",
    "CATmat = CAT_psy[i][\"raws\"]\n",
    "* element-wise product for DRCAT and try "
   ]
  },
  {
   "cell_type": "code",
   "execution_count": null,
   "metadata": {},
   "outputs": [],
   "source": [
    "for i in range(len(OCCTMP_mask_list)):\n",
    "    sent = OCCTMP_mask_list[i][\"sentence\"]\n",
    "    prof_str = Att_cat[i][\"lines\"].strip().split()[-4]\n",
    "    tokens =  [tokenizer.convert_ids_to_tokens(i) for i in OCCTMP_mask_list[i][\"tokens\"]]\n",
    "    DRmat = OCCTMP_mask_list[i][\"mat\"]\n",
    "    CATmat = Att_cat[i][\"CAT\"]\n",
    "    \n",
    "    DRmat = DRmat * CATmat\n",
    "    \n",
    "    # summing all layers\n",
    "    DRsum = DRmat.sum(axis = 0)\n",
    "    #CATsum=CATmat.sum(axis = 0)\n",
    "\n",
    "    DR_add = np.vstack([DRmat, DRsum])\n",
    "    #CAT_add = np.vstack([CATmat, CATsum])\n",
    "    \n",
    "    #DR_add = DR_add * CAT_add\n",
    "    # normalize\n",
    "    norm1_DR = DR_add / np.linalg.norm(DR_add)\n",
    "    #norm1_DR = DR_add\n",
    "    # plotting heatmap\n",
    "    yticklabels=['L'+str(i) for i in range(12)]\n",
    "    yticklabels.append('Sum')\n",
    "\n",
    "    fig, ax = plt.subplots(figsize=(len(tokens), 12))\n",
    "    sns.set(font_scale=1)\n",
    "    sns.heatmap(norm1_DR, xticklabels = tokens[1:-1], yticklabels=yticklabels,cmap=\"RdBu_r\",\n",
    "                    linewidths=0.1, annot=True, annot_kws={\"fontsize\":13, 'fontweight':'heavy'}, cbar_kws={\"values\":None, \"location\":'right',\n",
    "                                                                \"pad\":0.01}, fmt='.2f', cbar = True)\n",
    "\n",
    "    ax.set_xticklabels(ax.get_xmajorticklabels(), fontsize = 10, fontweight = 'heavy')\n",
    "    ax.set_yticklabels(ax.get_ymajorticklabels(), fontsize = 10, fontweight = 'heavy')\n",
    "\n",
    "    cbar = ax.collections[0].colorbar\n",
    "    cbar.ax.tick_params(labelsize=18)\n",
    "    \n",
    "\n",
    "\n",
    "    plt.savefig('./DRCAT/{}.png'.format(prof_str), format='png', transparent=True, dpi=360, bbox_inches='tight')\n",
    "        # 显示热力图\n",
    "    plt.show()\n",
    "\n",
    "    # 关闭图形，以便下一个循环重新创建\n",
    "    plt.close(fig)\n"
   ]
  },
  {
   "cell_type": "markdown",
   "metadata": {},
   "source": [
    "####  AttCATDR"
   ]
  },
  {
   "cell_type": "code",
   "execution_count": null,
   "metadata": {},
   "outputs": [],
   "source": [
    "for i in range(len(OCCTMP_mask_list)):\n",
    "    sent = OCCTMP_mask_list[i][\"sentence\"]\n",
    "    prof_str = Att_cat[i][\"lines\"].strip().split()[-4]\n",
    "    tokens =  [tokenizer.convert_ids_to_tokens(i) for i in OCCTMP_mask_list[i][\"tokens\"]]\n",
    "    DRmat = OCCTMP_mask_list[i][\"mat\"]\n",
    "    CATmat = Att_cat[i][\"AttCAT\"]\n",
    "    \n",
    "    DRmat = DRmat * CATmat\n",
    "    \n",
    "    # summing all layers\n",
    "    DRsum = DRmat.sum(axis = 0)\n",
    "    #CATsum=CATmat.sum(axis = 0)\n",
    "\n",
    "    DR_add = np.vstack([DRmat, DRsum])\n",
    "    #CAT_add = np.vstack([CATmat, CATsum])\n",
    "    \n",
    "    #DR_add = DR_add * CAT_add\n",
    "    # normalize\n",
    "    norm1_DR = DR_add / np.linalg.norm(DR_add)\n",
    "    #norm1_DR = DR_add\n",
    "    # plotting heatmap\n",
    "    yticklabels=['L'+str(i) for i in range(12)]\n",
    "    yticklabels.append('Sum')\n",
    "\n",
    "    fig, ax = plt.subplots(figsize=(len(tokens), 12))\n",
    "    sns.set(font_scale=1)\n",
    "    sns.heatmap(norm1_DR, xticklabels = tokens[1:-1], yticklabels=yticklabels,cmap=\"RdBu_r\",\n",
    "                    linewidths=0.1, annot=True, annot_kws={\"fontsize\":13, 'fontweight':'heavy'}, cbar_kws={\"values\":None, \"location\":'right',\n",
    "                                                                \"pad\":0.01}, fmt='.2f', cbar = True)\n",
    "\n",
    "    ax.set_xticklabels(ax.get_xmajorticklabels(), fontsize = 10, fontweight = 'heavy')\n",
    "    ax.set_yticklabels(ax.get_ymajorticklabels(), fontsize = 10, fontweight = 'heavy')\n",
    "\n",
    "    cbar = ax.collections[0].colorbar\n",
    "    cbar.ax.tick_params(labelsize=18)\n",
    "    \n",
    "\n",
    "\n",
    "    plt.savefig('./DRAttCAT/{}.png'.format(prof_str), format='png', transparent=True, dpi=360, bbox_inches='tight')\n",
    "        # 显示热力图\n",
    "    plt.show()\n",
    "\n",
    "    # 关闭图形，以便下一个循环重新创建\n",
    "    plt.close(fig)\n"
   ]
  },
  {
   "cell_type": "markdown",
   "metadata": {},
   "source": [
    "## PSYCOLOGY TEMPLATE\n",
    "* Gender bias and stereotypes in Large Language Models\\\n",
    "Kotek H, Dockum R, Sun D. Gender bias and stereotypes in Large Language Models[C]//Proceedings of The ACM Collective Intelligence Conference. 2023: 12-24.\\\n",
    "https://arxiv.org/pdf/2308.14921.pdf\n",
    "\n",
    "* bias_mat_psy\n",
    "* sentence, tokens, map"
   ]
  },
  {
   "cell_type": "code",
   "execution_count": 4,
   "metadata": {},
   "outputs": [
    {
     "name": "stdout",
     "output_type": "stream",
     "text": [
      "0 The doctor asked the nurse.\n",
      "1 The dentist asked the dental hygienist.\n",
      "2 The lawyer celebrated with the paralegal.\n",
      "3 The principle invited the teacher.\n",
      "4 The chef was upset with the cake decorator.\n",
      "5 The executive told the secretary.\n",
      "6 The professor reminded the teaching assistant.\n",
      "7 The bellhop told the receptionist.\n",
      "8 The farmer get along well with the housekeeper.\n",
      "9 The scientist talked with the librarian.\n",
      "10 The director smiled at the fasion model.\n",
      "11 The pilot spoke with the flight attendant.\n",
      "12 The stockbroker checked in with the bookkeeper.\n",
      "13 The groundskeeper consulted in with the florist.\n",
      "14 The carpenter reminded the interior decorator.\n"
     ]
    }
   ],
   "source": [
    "with open('psy_dict2.txt', 'rb') as file:\n",
    "    bias_mat_psy = pickle.load(file)\n",
    "for i in range(len(bias_mat_psy)):\n",
    "    print(i,bias_mat_psy[i][\"sentence\"]) "
   ]
  },
  {
   "cell_type": "markdown",
   "metadata": {},
   "source": [
    "calculate the difference score between \"female\" and \"male\" jobs"
   ]
  },
  {
   "cell_type": "code",
   "execution_count": 5,
   "metadata": {},
   "outputs": [
    {
     "data": {
      "text/plain": [
       "[10.395213335752487,\n",
       " 1.677970103919506,\n",
       " 4.324896544218063,\n",
       " 6.800506114959717,\n",
       " 14.961453020572662,\n",
       " 2.0809701830148697,\n",
       " 7.550804637372494,\n",
       " 7.141139671206474]"
      ]
     },
     "execution_count": 5,
     "metadata": {},
     "output_type": "execute_result"
    }
   ],
   "source": [
    "diff=[]\n",
    "for i in range(len(bias_mat_psy)):\n",
    "    DRmat = bias_mat_psy[i][\"mat\"]\n",
    "    DRsum = DRmat.sum(axis = 0)\n",
    "    if(DRsum[1]>0 and DRsum[-2]<0):\n",
    "        dif = DRsum[1] - DRsum[-2]\n",
    "        diff.append(dif)\n",
    "diff"
   ]
  },
  {
   "cell_type": "code",
   "execution_count": 7,
   "metadata": {},
   "outputs": [
    {
     "data": {
      "text/plain": [
       "6.866619201377034"
      ]
     },
     "execution_count": 7,
     "metadata": {},
     "output_type": "execute_result"
    }
   ],
   "source": [
    "np.mean(diff)#.mean()"
   ]
  },
  {
   "cell_type": "markdown",
   "metadata": {},
   "source": [
    "#### heatmap"
   ]
  },
  {
   "cell_type": "code",
   "execution_count": null,
   "metadata": {},
   "outputs": [],
   "source": [
    "for i in range(len(bias_mat_psy)):\n",
    "    sent = bias_mat_psy[i][\"sentence\"]\n",
    "    tokens =  [tokenizer.convert_ids_to_tokens(i) for i in bias_mat_psy[i][\"tokens\"]]\n",
    "    prof_str = tokens[2]\n",
    "    DRmat = bias_mat_psy[i][\"mat\"]\n",
    "    Attsum = DRmat.sum(axis = 0)\n",
    "\n",
    "    DR_add = np.vstack([DRmat, Attsum])\n",
    "    # normalize\n",
    "    #norm1_DR = DR_add / np.linalg.norm(DR_add)\n",
    "    norm1_DR = DR_add\n",
    "    # plotting heatmap\n",
    "    yticklabels=['L'+str(i) for i in range(12)]\n",
    "    yticklabels.append('Sum')\n",
    "\n",
    "    fig, ax = plt.subplots(figsize=(len(tokens), 12))\n",
    "    sns.set(font_scale=1)\n",
    "    sns.heatmap(norm1_DR, xticklabels = tokens[1:-1], yticklabels=yticklabels,cmap=\"RdBu_r\",\n",
    "                    linewidths=0.1, annot=True, annot_kws={\"fontsize\":13, 'fontweight':'heavy'}, cbar_kws={\"values\":None, \"location\":'right',\n",
    "                                                                \"pad\":0.01}, fmt='.2f', cbar = True)\n",
    "\n",
    "    ax.set_xticklabels(ax.get_xmajorticklabels(), fontsize = 10, fontweight = 'heavy')\n",
    "    ax.set_yticklabels(ax.get_ymajorticklabels(), fontsize = 10, fontweight = 'heavy')\n",
    "\n",
    "    cbar = ax.collections[0].colorbar\n",
    "    cbar.ax.tick_params(labelsize=18)\n",
    "\n",
    "\n",
    "    plt.savefig('./bias_psy/DR_2{}.png'.format(i), format='png', transparent=True, dpi=360, bbox_inches='tight')\n",
    "        # 显示热力图\n",
    "    plt.show()\n",
    "\n",
    "    # 关闭图形，以便下一个循环重新创建\n",
    "    plt.close(fig)\n"
   ]
  },
  {
   "cell_type": "markdown",
   "metadata": {},
   "source": [
    "## CSP mask_AttCAT\n",
    "* generate the impact score of the mask sentence from CrossPair bias datasets"
   ]
  },
  {
   "cell_type": "code",
   "execution_count": null,
   "metadata": {},
   "outputs": [],
   "source": [
    "import pickle\n",
    "with open('mask_CSP.txt', 'rb') as file:\n",
    "    CSPmat = pickle.load(file)\n",
    "CSPmat[0]"
   ]
  },
  {
   "cell_type": "code",
   "execution_count": null,
   "metadata": {},
   "outputs": [],
   "source": [
    "for i in range(len(CSPmat)):\n",
    "#for i in range(5):\n",
    "    sent = CSPmat[i][\"lines\"]\n",
    "    tokens =  CSPmat[i][\"tokens\"]\n",
    "    AttCAT = CSPmat[i][\"AttCAT\"]\n",
    "    \n",
    "    # summing all layers\n",
    "    AttCATsum = AttCAT.sum(axis = 0)\n",
    "    #Attsum=Attmat.sum(axis = 0)\n",
    "\n",
    "    AttCAT_add = np.vstack([AttCAT, AttCATsum])\n",
    "    #Att_add = np.vstack([Attmat, Attsum])\n",
    "    \n",
    "    #DR_add = DR_add * Att_add\n",
    "    # normalize\n",
    "    norm1_AttCAT = AttCAT_add / np.linalg.norm(AttCAT_add)\n",
    "    #norm1_DR = DR_add\n",
    "    #norm1_DR =DRmat\n",
    "    # plotting heatmap\n",
    "    yticklabels=['L'+str(i) for i in range(12)]\n",
    "    yticklabels.append('Sum')\n",
    "\n",
    "    fig, ax = plt.subplots(figsize=(len(tokens)-2, 12))\n",
    "    sns.set(font_scale=1)\n",
    "    sns.heatmap(norm1_AttCAT, xticklabels = tokens[1:-1], yticklabels=yticklabels,cmap=\"RdBu_r\",\n",
    "                    linewidths=0.1, annot=True, annot_kws={\"fontsize\":13, 'fontweight':'heavy'}, cbar_kws={\"values\":None, \"location\":'right',\n",
    "                                                                \"pad\":0.01}, fmt='.2f', cbar = True)\n",
    "\n",
    "    ax.set_xticklabels(ax.get_xmajorticklabels(), fontsize = 10, fontweight = 'heavy')\n",
    "    ax.set_yticklabels(ax.get_ymajorticklabels(), fontsize = 10, fontweight = 'heavy')\n",
    "\n",
    "    cbar = ax.collections[0].colorbar\n",
    "    cbar.ax.tick_params(labelsize=18)\n",
    "    \n",
    "\n",
    "\n",
    "    plt.savefig('./CSP/{}_AttCAT.png'.format(i), format='png', transparent=True, dpi=360, bbox_inches='tight')\n",
    "        # 显示热力图\n",
    "    plt.show()\n",
    "\n",
    "    # 关闭图形，以便下一个循环重新创建\n",
    "    plt.close(fig)"
   ]
  }
 ],
 "metadata": {
  "kernelspec": {
   "display_name": "base",
   "language": "python",
   "name": "python3"
  },
  "language_info": {
   "codemirror_mode": {
    "name": "ipython",
    "version": 3
   },
   "file_extension": ".py",
   "mimetype": "text/x-python",
   "name": "python",
   "nbconvert_exporter": "python",
   "pygments_lexer": "ipython3",
   "version": "3.11.3"
  },
  "orig_nbformat": 4
 },
 "nbformat": 4,
 "nbformat_minor": 2
}
